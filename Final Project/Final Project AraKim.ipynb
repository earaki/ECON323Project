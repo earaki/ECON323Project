{
 "cells": [
  {
   "cell_type": "code",
   "execution_count": 5,
   "id": "25e53f47-e62b-4a4e-b051-ca8f16dc8f58",
   "metadata": {},
   "outputs": [
    {
     "name": "stdout",
     "output_type": "stream",
     "text": [
      "\u001b[33mWARNING: Skipping /opt/conda/lib/python3.11/site-packages/nlopt-2.7.1.dist-info due to invalid metadata entry 'name'\u001b[0m\u001b[33m\n",
      "\u001b[0m\u001b[33mWARNING: Skipping /opt/conda/lib/python3.11/site-packages/nlopt-2.7.1.dist-info due to invalid metadata entry 'name'\u001b[0m\u001b[33m\n",
      "\u001b[0mRequirement already satisfied: pandas in /opt/conda/lib/python3.11/site-packages (2.2.2)\n",
      "Requirement already satisfied: numpy>=1.23.2 in /opt/conda/lib/python3.11/site-packages (from pandas) (1.26.4)\n",
      "Requirement already satisfied: python-dateutil>=2.8.2 in /opt/conda/lib/python3.11/site-packages (from pandas) (2.9.0)\n",
      "Requirement already satisfied: pytz>=2020.1 in /opt/conda/lib/python3.11/site-packages (from pandas) (2024.1)\n",
      "Requirement already satisfied: tzdata>=2022.7 in /opt/conda/lib/python3.11/site-packages (from pandas) (2024.1)\n",
      "Requirement already satisfied: six>=1.5 in /opt/conda/lib/python3.11/site-packages (from python-dateutil>=2.8.2->pandas) (1.16.0)\n",
      "\u001b[33mWARNING: Skipping /opt/conda/lib/python3.11/site-packages/nlopt-2.7.1.dist-info due to invalid metadata entry 'name'\u001b[0m\u001b[33m\n",
      "\u001b[0m\u001b[33mWARNING: Skipping /opt/conda/lib/python3.11/site-packages/nlopt-2.7.1.dist-info due to invalid metadata entry 'name'\u001b[0m\u001b[33m\n",
      "\u001b[0m"
     ]
    }
   ],
   "source": [
    "!pip install pandas\n",
    "import pandas as pd"
   ]
  },
  {
   "cell_type": "code",
   "execution_count": 19,
   "id": "68d78094-0157-4c5a-b862-a0c8d9b03d3b",
   "metadata": {},
   "outputs": [
    {
     "name": "stdout",
     "output_type": "stream",
     "text": [
      "      RK                      Team  Total Points  Previous Points\n",
      "0      1                 Argentina       1883.50          1889.02\n",
      "1      2                    France       1859.85          1851.92\n",
      "2      3                     Spain       1844.33          1836.42\n",
      "3      4                   England       1807.83          1817.28\n",
      "4      5                    Brazil       1784.37          1772.02\n",
      "..   ...                       ...           ...              ...\n",
      "205  206  Turks and Caicos Islands        803.98           802.81\n",
      "206  207    British Virgin Islands        780.30           790.63\n",
      "207  208         US Virgin Islands        779.71           792.15\n",
      "208  209                  Anguilla        769.31           782.08\n",
      "209  210                San Marino        737.04           746.05\n",
      "\n",
      "[210 rows x 4 columns]\n"
     ]
    }
   ],
   "source": [
    "# 2024\n",
    "# Load your dataset \n",
    "fifa_ranking_2024 = pd.read_csv('Data sets/Fifa Rankings (2010-2024)/FIFA Ranking 2024.csv')\n",
    "\n",
    "# Step 1: Clean the \"Team\" column to extract only the country name\n",
    "# Remove extra text such as codes (e.g., ARG) and URLs\n",
    "fifa_ranking_2024['Team'] = fifa_ranking_2024['Team'].str.replace(r'[A-Z]{3}\\s*https.*', '', regex=True)\n",
    "\n",
    "# Step 2: Save the cleaned DataFrame to a new CSV file\n",
    "cleaned_file_path = 'Data sets/Fifa Rankings (2010-2024)/FIFA Ranking 2024 Cleaned.csv'\n",
    "fifa_ranking_2024.to_csv(cleaned_file_path, index=False)\n",
    "\n",
    "fifa_ranking_2024 = fifa_ranking_2024.drop(columns=['Unnamed: 6', 'Unnamed: 7', '+/-', 'Match window'])\n",
    "\n",
    "# Step 3: Display the cleaned \"Team\" column\n",
    "print(fifa_ranking_2024)"
   ]
  },
  {
   "cell_type": "code",
   "execution_count": 18,
   "id": "65960fa6-0604-4494-bd87-2252f8097bac",
   "metadata": {},
   "outputs": [
    {
     "name": "stdout",
     "output_type": "stream",
     "text": [
      "      RK                      Team  Total Points  Previous Points\n",
      "0      1                 Argentina       1855.20          1855.20\n",
      "1      2                    France       1845.44          1845.44\n",
      "2      3                   England       1800.05          1800.05\n",
      "3      4                   Belgium       1798.46          1798.46\n",
      "4      5                    Brazil       1784.09          1784.09\n",
      "..   ...                       ...           ...              ...\n",
      "201  202                   Bahamas        835.81           835.81\n",
      "202  203             Liechtenstein        833.01           833.01\n",
      "203  204                 Sri Lanka        822.03           822.03\n",
      "204  205                      Guam        821.91           821.91\n",
      "205  206  Turks and Caicos Islands        818.57           818.57\n",
      "\n",
      "[206 rows x 4 columns]\n"
     ]
    }
   ],
   "source": [
    "# 2023\n",
    "# Load your dataset \n",
    "fifa_ranking_2023 = pd.read_csv('Data sets/Fifa Rankings (2010-2024)/FIFA Ranking 2023.csv')\n",
    "\n",
    "# Step 1: Clean the \"Team\" column to extract only the country name\n",
    "# Remove extra text such as codes (e.g., ARG) and URLs\n",
    "fifa_ranking_2023['Team'] = fifa_ranking_2023['Team'].str.replace(r'[A-Z]{3}\\s*https.*', '', regex=True)\n",
    "\n",
    "# Step 2: Save the cleaned DataFrame to a new CSV file\n",
    "cleaned_file_path = 'Data sets/Fifa Rankings (2010-2024)/FIFA Ranking 2024 Cleaned.csv'\n",
    "fifa_ranking_2023.to_csv(cleaned_file_path, index=False)\n",
    "\n",
    "fifa_ranking_2023 = fifa_ranking_2023.drop(columns=['+/-', 'Match window', 'More'])\n",
    "\n",
    "# Step 3: Display the cleaned \"Team\" column\n",
    "print(fifa_ranking_2023)"
   ]
  },
  {
   "cell_type": "code",
   "execution_count": 22,
   "id": "659a5846-b565-4e84-a3b0-13c93a9265fc",
   "metadata": {},
   "outputs": [
    {
     "name": "stdout",
     "output_type": "stream",
     "text": [
      "      RK                    Team  Total Points  Previous Points\n",
      "0      1                  Brazil       1840.77          1841.30\n",
      "1      2               Argentina       1838.38          1773.88\n",
      "2      3                  France       1823.39          1759.78\n",
      "3      4                 Belgium       1781.30          1816.71\n",
      "4      5                 England       1774.19          1728.47\n",
      "..   ...                     ...           ...              ...\n",
      "206  207               Sri Lanka        825.25           825.25\n",
      "207  208       US Virgin Islands        823.97           823.97\n",
      "208  209  British Virgin Islands        809.32           809.32\n",
      "209  210                Anguilla        790.74           790.74\n",
      "210  211              San Marino        763.15           762.22\n",
      "\n",
      "[211 rows x 4 columns]\n"
     ]
    }
   ],
   "source": [
    "# 2022\n",
    "# Load your dataset \n",
    "fifa_ranking_2022 = pd.read_csv('Data sets/Fifa Rankings (2010-2024)/FIFA Ranking 2022.csv')\n",
    "\n",
    "# Step 1: Clean the \"Team\" column to extract only the country name\n",
    "# Remove extra text such as codes (e.g., ARG) and URLs\n",
    "fifa_ranking_2022['Team'] = fifa_ranking_2022['Team'].str.replace(r'[A-Z]{3}\\s*https.*', '', regex=True)\n",
    "\n",
    "# Step 2: Save the cleaned DataFrame to a new CSV file\n",
    "cleaned_file_path = 'Data sets/Fifa Rankings (2010-2024)/FIFA Ranking 2022 Cleaned.csv'\n",
    "fifa_ranking_2022.to_csv(cleaned_file_path, index=False)\n",
    "\n",
    "fifa_ranking_2022 = fifa_ranking_2022.drop(columns=['+/-', 'Match window', 'More'])\n",
    "\n",
    "# Step 3: Display the cleaned \"Team\" column\n",
    "print(fifa_ranking_2022)"
   ]
  },
  {
   "cell_type": "code",
   "execution_count": 23,
   "id": "4b487121-7cb3-4e8e-acf3-1765e077dcdf",
   "metadata": {},
   "outputs": [
    {
     "name": "stdout",
     "output_type": "stream",
     "text": [
      "      RK                    Team  Total Points  Previous Points\n",
      "0      1                 Belgium       1828.45          1828.45\n",
      "1      2                  Brazil       1826.35          1826.35\n",
      "2      3                  France       1786.15          1786.15\n",
      "3      4                 England       1755.52          1755.52\n",
      "4      5               Argentina       1750.51          1750.51\n",
      "..   ...                     ...           ...              ...\n",
      "205  206                    Guam        838.33           838.33\n",
      "206  207       US Virgin Islands        816.13           816.13\n",
      "207  208  British Virgin Islands        812.94           812.94\n",
      "208  209                Anguilla        792.34           792.34\n",
      "209  210              San Marino        780.33           780.33\n",
      "\n",
      "[210 rows x 4 columns]\n"
     ]
    }
   ],
   "source": [
    "# 2021\n",
    "# Load your dataset \n",
    "fifa_ranking_2021 = pd.read_csv('Data sets/Fifa Rankings (2010-2024)/FIFA Ranking 2021.csv')\n",
    "\n",
    "# Step 1: Clean the \"Team\" column to extract only the country name\n",
    "# Remove extra text such as codes (e.g., ARG) and URLs\n",
    "fifa_ranking_2021['Team'] = fifa_ranking_2021['Team'].str.replace(r'[A-Z]{3}\\s*https.*', '', regex=True)\n",
    "\n",
    "# Step 2: Save the cleaned DataFrame to a new CSV file\n",
    "cleaned_file_path = 'Data sets/Fifa Rankings (2010-2024)/FIFA Ranking 2021 Cleaned.csv'\n",
    "fifa_ranking_2021.to_csv(cleaned_file_path, index=False)\n",
    "\n",
    "fifa_ranking_2021 = fifa_ranking_2021.drop(columns=['+/-', 'Match window', 'More'])\n",
    "\n",
    "# Step 3: Display the cleaned \"Team\" column\n",
    "print(fifa_ranking_2021)"
   ]
  },
  {
   "cell_type": "code",
   "execution_count": 24,
   "id": "7f578a5c-ef73-40d8-a327-bd8aaca16275",
   "metadata": {},
   "outputs": [
    {
     "name": "stdout",
     "output_type": "stream",
     "text": [
      "      RK                    Team  Total Points  Previous Points\n",
      "0      1                 Belgium          1780             1780\n",
      "1      2                  France          1755             1755\n",
      "2      3                  Brazil          1743             1743\n",
      "3      4                 England          1670             1670\n",
      "4      5                Portugal          1662             1662\n",
      "..   ...                     ...           ...              ...\n",
      "205  206               Sri Lanka           853              853\n",
      "206  207       US Virgin Islands           844              844\n",
      "207  208  British Virgin Islands           842              842\n",
      "208  209                Anguilla           821              821\n",
      "209  210              San Marino           810              810\n",
      "\n",
      "[210 rows x 4 columns]\n"
     ]
    }
   ],
   "source": [
    "# 2020\n",
    "# Load your dataset \n",
    "fifa_ranking_2020 = pd.read_csv('Data sets/Fifa Rankings (2010-2024)/FIFA Ranking 2020.csv')\n",
    "\n",
    "# Step 1: Clean the \"Team\" column to extract only the country name\n",
    "# Remove extra text such as codes (e.g., ARG) and URLs\n",
    "fifa_ranking_2020['Team'] = fifa_ranking_2020['Team'].str.replace(r'[A-Z]{3}\\s*https.*', '', regex=True)\n",
    "\n",
    "# Step 2: Save the cleaned DataFrame to a new CSV file\n",
    "cleaned_file_path = 'Data sets/Fifa Rankings (2010-2024)/FIFA Ranking 2020 Cleaned.csv'\n",
    "fifa_ranking_2020.to_csv(cleaned_file_path, index=False)\n",
    "\n",
    "fifa_ranking_2020 = fifa_ranking_2020.drop(columns=['+/-', 'Match window', 'More'])\n",
    "\n",
    "# Step 3: Display the cleaned \"Team\" column\n",
    "print(fifa_ranking_2020)"
   ]
  },
  {
   "cell_type": "code",
   "execution_count": 25,
   "id": "91b50b52-552e-4942-ab67-f4836d9ec2fb",
   "metadata": {},
   "outputs": [
    {
     "name": "stdout",
     "output_type": "stream",
     "text": [
      "      RK                    Team  Total Points  Previous Points\n",
      "0      1                 Belgium          1765             1765\n",
      "1      2                  France          1733             1733\n",
      "2      3                  Brazil          1712             1712\n",
      "3      4                 England          1661             1661\n",
      "4      5                 Uruguay          1645             1645\n",
      "..   ...                     ...           ...              ...\n",
      "205  205                 Eritrea           856              856\n",
      "206  207       US Virgin Islands           844              844\n",
      "207  208  British Virgin Islands           842              842\n",
      "208  209              San Marino           824              824\n",
      "209  210                Anguilla           821              821\n",
      "\n",
      "[210 rows x 4 columns]\n"
     ]
    }
   ],
   "source": [
    "# 2019\n",
    "# Load your dataset \n",
    "fifa_ranking_2019 = pd.read_csv('Data sets/Fifa Rankings (2010-2024)/FIFA Ranking 2019.csv')\n",
    "\n",
    "# Step 1: Clean the \"Team\" column to extract only the country name\n",
    "# Remove extra text such as codes (e.g., ARG) and URLs\n",
    "fifa_ranking_2019['Team'] = fifa_ranking_2019['Team'].str.replace(r'[A-Z]{3}\\s*https.*', '', regex=True)\n",
    "\n",
    "# Step 2: Save the cleaned DataFrame to a new CSV file\n",
    "cleaned_file_path = 'Data sets/Fifa Rankings (2010-2024)/FIFA Ranking 2019 Cleaned.csv'\n",
    "fifa_ranking_2019.to_csv(cleaned_file_path, index=False)\n",
    "\n",
    "fifa_ranking_2019 = fifa_ranking_2019.drop(columns=['+/-', 'Match window', 'More'])\n",
    "\n",
    "# Step 3: Display the cleaned \"Team\" column\n",
    "print(fifa_ranking_2019)"
   ]
  },
  {
   "cell_type": "code",
   "execution_count": 27,
   "id": "65ecc4cd-97db-40ca-9a39-d27107e4d92d",
   "metadata": {},
   "outputs": [
    {
     "name": "stdout",
     "output_type": "stream",
     "text": [
      "      RK                      Team  Total Points  Previous Points\n",
      "0      1                   Belgium          1727             1727\n",
      "1      2                    France          1726             1726\n",
      "2      3                    Brazil          1676             1676\n",
      "3      4                   Croatia          1634             1634\n",
      "4      5                   England          1631             1631\n",
      "..   ...                       ...           ...              ...\n",
      "206  207    British Virgin Islands           867              867\n",
      "207  208  Turks and Caicos Islands           864              864\n",
      "208  208                  Anguilla           864              864\n",
      "209  210                   Bahamas           858              858\n",
      "210  211                San Marino           854              854\n",
      "\n",
      "[211 rows x 4 columns]\n"
     ]
    }
   ],
   "source": [
    "# 2018\n",
    "# Load your dataset \n",
    "fifa_ranking_2018 = pd.read_csv('Data sets/Fifa Rankings (2010-2024)/FIFA Ranking 2018.csv')\n",
    "\n",
    "# Step 1: Clean the \"Team\" column to extract only the country name\n",
    "# Remove extra text such as codes (e.g., ARG) and URLs\n",
    "fifa_ranking_2018['Team'] = fifa_ranking_2018['Team'].str.replace(r'[A-Z]{3}\\s*https.*', '', regex=True)\n",
    "\n",
    "# Step 2: Save the cleaned DataFrame to a new CSV file\n",
    "cleaned_file_path = 'Data sets/Fifa Rankings (2010-2024)/FIFA Ranking 2018 Cleaned.csv'\n",
    "fifa_ranking_2018.to_csv(cleaned_file_path, index=False)\n",
    "\n",
    "fifa_ranking_2018 = fifa_ranking_2018.drop(columns=['+/-', 'More'])\n",
    "\n",
    "# Step 3: Display the cleaned \"Team\" column\n",
    "print(fifa_ranking_2018)"
   ]
  },
  {
   "cell_type": "code",
   "execution_count": 28,
   "id": "f486a931-c9a0-4cd5-b595-eebed6cfcb76",
   "metadata": {},
   "outputs": [
    {
     "name": "stdout",
     "output_type": "stream",
     "text": [
      "      RK       Team  Total Points  Previous Points\n",
      "0      1    Germany          1602             1602\n",
      "1      2     Brazil          1483             1483\n",
      "2      3   Portugal          1358             1358\n",
      "3      4  Argentina          1348             1348\n",
      "4      5    Belgium          1325             1325\n",
      "..   ...        ...           ...              ...\n",
      "206  206    Bahamas             0                0\n",
      "207  206    Eritrea             0                0\n",
      "208  206  Gibraltar             0                0\n",
      "209  206    Somalia             0                0\n",
      "210  206      Tonga             0                0\n",
      "\n",
      "[211 rows x 4 columns]\n"
     ]
    }
   ],
   "source": [
    "# 2017\n",
    "# Load your dataset \n",
    "fifa_ranking_2017 = pd.read_csv('Data sets/Fifa Rankings (2010-2024)/FIFA Ranking 2017.csv')\n",
    "\n",
    "# Step 1: Clean the \"Team\" column to extract only the country name\n",
    "# Remove extra text such as codes (e.g., ARG) and URLs\n",
    "fifa_ranking_2017['Team'] = fifa_ranking_2017['Team'].str.replace(r'[A-Z]{3}\\s*https.*', '', regex=True)\n",
    "\n",
    "# Step 2: Save the cleaned DataFrame to a new CSV file\n",
    "cleaned_file_path = 'Data sets/Fifa Rankings (2010-2024)/FIFA Ranking 2017 Cleaned.csv'\n",
    "fifa_ranking_2017.to_csv(cleaned_file_path, index=False)\n",
    "\n",
    "fifa_ranking_2017 = fifa_ranking_2017.drop(columns=['+/-', 'More'])\n",
    "\n",
    "# Step 3: Display the cleaned \"Team\" column\n",
    "print(fifa_ranking_2017)"
   ]
  },
  {
   "cell_type": "code",
   "execution_count": 29,
   "id": "9c5d1e58-1da3-4406-bb98-536c7c819284",
   "metadata": {},
   "outputs": [
    {
     "name": "stdout",
     "output_type": "stream",
     "text": [
      "      RK       Team  Total Points  Previous Points\n",
      "0      1  Argentina          1634             1634\n",
      "1      2     Brazil          1544             1544\n",
      "2      3    Germany          1433             1433\n",
      "3      4      Chile          1404             1404\n",
      "4      5    Belgium          1368             1368\n",
      "..   ...        ...           ...              ...\n",
      "206  205   Djibouti             0                0\n",
      "207  205    Somalia             0                0\n",
      "208  205  Gibraltar             0                0\n",
      "209  205      Tonga             0                0\n",
      "210  205    Eritrea             0                0\n",
      "\n",
      "[211 rows x 4 columns]\n"
     ]
    }
   ],
   "source": [
    "# 2016\n",
    "# Load your dataset \n",
    "fifa_ranking_2016 = pd.read_csv('Data sets/Fifa Rankings (2010-2024)/FIFA Ranking 2016.csv')\n",
    "\n",
    "# Step 1: Clean the \"Team\" column to extract only the country name\n",
    "# Remove extra text such as codes (e.g., ARG) and URLs\n",
    "fifa_ranking_2016['Team'] = fifa_ranking_2016['Team'].str.replace(r'[A-Z]{3}\\s*https.*', '', regex=True)\n",
    "\n",
    "# Step 2: Save the cleaned DataFrame to a new CSV file\n",
    "cleaned_file_path = 'Data sets/Fifa Rankings (2010-2024)/FIFA Ranking 2016 Cleaned.csv'\n",
    "fifa_ranking_2016.to_csv(cleaned_file_path, index=False)\n",
    "\n",
    "fifa_ranking_2016 = fifa_ranking_2016.drop(columns=['+/-', 'More'])\n",
    "\n",
    "# Step 3: Display the cleaned \"Team\" column\n",
    "print(fifa_ranking_2016)"
   ]
  },
  {
   "cell_type": "code",
   "execution_count": 30,
   "id": "199b0492-4fbe-4ca2-a73f-e356bccc6ba7",
   "metadata": {},
   "outputs": [
    {
     "name": "stdout",
     "output_type": "stream",
     "text": [
      "      RK       Team  Total Points  Previous Points\n",
      "0      1    Belgium          1494             1440\n",
      "1      2  Argentina          1455             1383\n",
      "2      3      Spain          1370             1287\n",
      "3      4    Germany          1347             1388\n",
      "4      5      Chile          1273             1288\n",
      "..   ...        ...           ...              ...\n",
      "204  204    Bahamas             0                0\n",
      "205  204   Djibouti             0                0\n",
      "206  204    Eritrea             0                8\n",
      "207  204    Somalia             0                6\n",
      "208  204      Tonga             0               17\n",
      "\n",
      "[209 rows x 4 columns]\n"
     ]
    }
   ],
   "source": [
    "# 2015\n",
    "# Load your dataset \n",
    "fifa_ranking_2015 = pd.read_csv('Data sets/Fifa Rankings (2010-2024)/FIFA Ranking 2015.csv')\n",
    "\n",
    "# Step 1: Clean the \"Team\" column to extract only the country name\n",
    "# Remove extra text such as codes (e.g., ARG) and URLs\n",
    "fifa_ranking_2015['Team'] = fifa_ranking_2015['Team'].str.replace(r'[A-Z]{3}\\s*https.*', '', regex=True)\n",
    "\n",
    "# Step 2: Save the cleaned DataFrame to a new CSV file\n",
    "cleaned_file_path = 'Data sets/Fifa Rankings (2010-2024)/FIFA Ranking 2015 Cleaned.csv'\n",
    "fifa_ranking_2015.to_csv(cleaned_file_path, index=False)\n",
    "\n",
    "fifa_ranking_2015 = fifa_ranking_2015.drop(columns=['+/-', 'More'])\n",
    "\n",
    "# Step 3: Display the cleaned \"Team\" column\n",
    "print(fifa_ranking_2015)"
   ]
  },
  {
   "cell_type": "code",
   "execution_count": 31,
   "id": "d8fc9dc9-7ae2-4a1c-8a12-e8802083dd58",
   "metadata": {},
   "outputs": [
    {
     "name": "stdout",
     "output_type": "stream",
     "text": [
      "      RK            Team  Total Points  Previous Points\n",
      "0      1         Germany          1725             1725\n",
      "1      2       Argentina          1538             1538\n",
      "2      3        Colombia          1450             1450\n",
      "3      4         Belgium          1417             1417\n",
      "4      5     Netherlands          1374             1374\n",
      "..   ...             ...           ...              ...\n",
      "204  205  Cayman Islands             5                5\n",
      "205  206        Djibouti             4                5\n",
      "206  206    Cook Islands             4                4\n",
      "207  208        Anguilla             2                2\n",
      "208  209          Bhutan             0                0\n",
      "\n",
      "[209 rows x 4 columns]\n"
     ]
    }
   ],
   "source": [
    "# 2014\n",
    "# Load your dataset \n",
    "fifa_ranking_2014 = pd.read_csv('Data sets/Fifa Rankings (2010-2024)/FIFA Ranking 2014.csv')\n",
    "\n",
    "# Step 1: Clean the \"Team\" column to extract only the country name\n",
    "# Remove extra text such as codes (e.g., ARG) and URLs\n",
    "fifa_ranking_2014['Team'] = fifa_ranking_2014['Team'].str.replace(r'[A-Z]{3}\\s*https.*', '', regex=True)\n",
    "\n",
    "# Step 2: Save the cleaned DataFrame to a new CSV file\n",
    "cleaned_file_path = 'Data sets/Fifa Rankings (2010-2024)/FIFA Ranking 2014 Cleaned.csv'\n",
    "fifa_ranking_2014.to_csv(cleaned_file_path, index=False)\n",
    "\n",
    "# Drop unnecessary columns\n",
    "fifa_ranking_2014 = fifa_ranking_2014.drop(columns=['+/-', 'More'])\n",
    "\n",
    "# Step 3: Display the cleaned \"Team\" column\n",
    "print(fifa_ranking_2014)"
   ]
  },
  {
   "cell_type": "code",
   "execution_count": 32,
   "id": "e05bdc07-6b95-450d-a018-7bc3de217b21",
   "metadata": {},
   "outputs": [
    {
     "name": "stdout",
     "output_type": "stream",
     "text": [
      "      RK                      Team  Total Points  Previous Points\n",
      "0      1                     Spain          1507             1507\n",
      "1      2                   Germany          1318             1318\n",
      "2      3                 Argentina          1251             1251\n",
      "3      4                  Colombia          1200             1200\n",
      "4      5                  Portugal          1172             1172\n",
      "..   ...                       ...           ...              ...\n",
      "204  205              Cook Islands             5                5\n",
      "205  206                  Anguilla             3                3\n",
      "206  207                    Bhutan             0                0\n",
      "207  207                San Marino             0                0\n",
      "208  207  Turks and Caicos Islands             0                0\n",
      "\n",
      "[209 rows x 4 columns]\n"
     ]
    }
   ],
   "source": [
    "# 2013\n",
    "# Load your dataset \n",
    "fifa_ranking_2013 = pd.read_csv('Data sets/Fifa Rankings (2010-2024)/FIFA Ranking 2013.csv')\n",
    "\n",
    "# Step 1: Clean the \"Team\" column to extract only the country name\n",
    "# Remove extra text such as codes (e.g., ARG) and URLs\n",
    "fifa_ranking_2013['Team'] = fifa_ranking_2013['Team'].str.replace(r'[A-Z]{3}\\s*https.*', '', regex=True)\n",
    "\n",
    "# Step 2: Save the cleaned DataFrame to a new CSV file\n",
    "cleaned_file_path = 'Data sets/Fifa Rankings (2010-2024)/FIFA Ranking 2013 Cleaned.csv'\n",
    "fifa_ranking_2013.to_csv(cleaned_file_path, index=False)\n",
    "\n",
    "# Drop unnecessary columns\n",
    "fifa_ranking_2013 = fifa_ranking_2013.drop(columns=['+/-', 'More'])\n",
    "\n",
    "# Step 3: Display the cleaned \"Team\" column\n",
    "print(fifa_ranking_2013)"
   ]
  },
  {
   "cell_type": "code",
   "execution_count": 33,
   "id": "bdc8c87a-d799-4e4c-bb82-2fa092a7ffd0",
   "metadata": {},
   "outputs": [
    {
     "name": "stdout",
     "output_type": "stream",
     "text": [
      "      RK                      Team  Total Points  Previous Points\n",
      "0      1                     Spain          1606             1564\n",
      "1      2                   Germany          1437             1421\n",
      "2      3                 Argentina          1290             1349\n",
      "3      4                     Italy          1165             1169\n",
      "4      5                  Colombia          1164             1110\n",
      "..   ...                       ...           ...              ...\n",
      "204  205                  Anguilla             4                4\n",
      "205  206                Mauritania             3                3\n",
      "206  207                    Bhutan             0                0\n",
      "207  207                San Marino             0                0\n",
      "208  207  Turks and Caicos Islands             0                0\n",
      "\n",
      "[209 rows x 4 columns]\n"
     ]
    }
   ],
   "source": [
    "# 2012\n",
    "# Load your dataset \n",
    "fifa_ranking_2012 = pd.read_csv('Data sets/Fifa Rankings (2010-2024)/FIFA Ranking 2012.csv')\n",
    "\n",
    "# Step 1: Clean the \"Team\" column to extract only the country name\n",
    "# Remove extra text such as codes (e.g., ARG) and URLs\n",
    "fifa_ranking_2012['Team'] = fifa_ranking_2012['Team'].str.replace(r'[A-Z]{3}\\s*https.*', '', regex=True)\n",
    "\n",
    "# Step 2: Save the cleaned DataFrame to a new CSV file\n",
    "cleaned_file_path = 'Data sets/Fifa Rankings (2010-2024)/FIFA Ranking 2012 Cleaned.csv'\n",
    "fifa_ranking_2012.to_csv(cleaned_file_path, index=False)\n",
    "\n",
    "# Drop unnecessary columns\n",
    "fifa_ranking_2012 = fifa_ranking_2012.drop(columns=['+/-', 'More'])\n",
    "\n",
    "# Step 3: Display the cleaned dataset\n",
    "print(fifa_ranking_2012)"
   ]
  },
  {
   "cell_type": "code",
   "execution_count": 34,
   "id": "a66ea44b-205f-4466-a20a-97c983961d79",
   "metadata": {},
   "outputs": [
    {
     "name": "stdout",
     "output_type": "stream",
     "text": [
      "      RK         Team  Total Points  Previous Points\n",
      "0      1        Spain          1564             1564\n",
      "1      2  Netherlands          1365             1365\n",
      "2      3      Germany          1345             1345\n",
      "3      4      Uruguay          1309             1309\n",
      "4      5      England          1173             1173\n",
      "..   ...          ...           ...              ...\n",
      "203  204   Mauritania             4                4\n",
      "204  205  Timor-Leste             2                2\n",
      "205  206      Andorra             0                0\n",
      "206  206   Montserrat             0                0\n",
      "207  206   San Marino             0                0\n",
      "\n",
      "[208 rows x 4 columns]\n"
     ]
    }
   ],
   "source": [
    "# 2011\n",
    "# Load your dataset \n",
    "fifa_ranking_2011 = pd.read_csv('Data sets/Fifa Rankings (2010-2024)/FIFA Ranking 2011.csv')\n",
    "\n",
    "# Step 1: Clean the \"Team\" column to extract only the country name\n",
    "# Remove extra text such as codes (e.g., ARG) and URLs\n",
    "fifa_ranking_2011['Team'] = fifa_ranking_2011['Team'].str.replace(r'[A-Z]{3}\\s*https.*', '', regex=True)\n",
    "\n",
    "# Step 2: Save the cleaned DataFrame to a new CSV file\n",
    "cleaned_file_path = 'Data sets/Fifa Rankings (2010-2024)/FIFA Ranking 2011 Cleaned.csv'\n",
    "fifa_ranking_2011.to_csv(cleaned_file_path, index=False)\n",
    "\n",
    "# Drop unnecessary columns\n",
    "fifa_ranking_2011 = fifa_ranking_2011.drop(columns=['+/-', 'More'])\n",
    "\n",
    "# Step 3: Display the cleaned dataset\n",
    "print(fifa_ranking_2011)"
   ]
  },
  {
   "cell_type": "code",
   "execution_count": 35,
   "id": "57ea81a2-f707-4f38-b13c-ea7728e7dde6",
   "metadata": {},
   "outputs": [
    {
     "name": "stdout",
     "output_type": "stream",
     "text": [
      "      RK                 Team  Total Points  Previous Points\n",
      "0      1                Spain          1887             1920\n",
      "1      2          Netherlands          1723             1718\n",
      "2      3              Germany          1485             1489\n",
      "3      4               Brazil          1446             1493\n",
      "4      5            Argentina          1338             1353\n",
      "..   ...                  ...           ...              ...\n",
      "202  203             Anguilla             0                0\n",
      "203  203       American Samoa             0                0\n",
      "204  203           San Marino             0                0\n",
      "205  203           Montserrat             0                0\n",
      "206  208  Sao Tome e Principe             0                0\n",
      "\n",
      "[207 rows x 4 columns]\n"
     ]
    }
   ],
   "source": [
    "# 2010\n",
    "# Load your dataset \n",
    "fifa_ranking_2010 = pd.read_csv('Data sets/Fifa Rankings (2010-2024)/FIFA Ranking 2010.csv')\n",
    "\n",
    "# Step 1: Clean the \"Team\" column to extract only the country name\n",
    "# Remove extra text such as codes (e.g., ARG) and URLs\n",
    "fifa_ranking_2010['Team'] = fifa_ranking_2010['Team'].str.replace(r'[A-Z]{3}\\s*https.*', '', regex=True)\n",
    "\n",
    "# Step 2: Save the cleaned DataFrame to a new CSV file\n",
    "cleaned_file_path = 'Data sets/Fifa Rankings (2010-2024)/FIFA Ranking 2010 Cleaned.csv'\n",
    "fifa_ranking_2010.to_csv(cleaned_file_path, index=False)\n",
    "\n",
    "# Drop unnecessary columns\n",
    "fifa_ranking_2010 = fifa_ranking_2010.drop(columns=['+/-', 'More'])\n",
    "\n",
    "# Step 3: Display the cleaned dataset\n",
    "print(fifa_ranking_2010)"
   ]
  },
  {
   "cell_type": "code",
   "execution_count": null,
   "id": "dd3fd070-d477-4365-9801-dc15574e8653",
   "metadata": {},
   "outputs": [],
   "source": []
  }
 ],
 "metadata": {
  "kernelspec": {
   "display_name": "Python 3 (ipykernel)",
   "language": "python",
   "name": "python3"
  },
  "language_info": {
   "codemirror_mode": {
    "name": "ipython",
    "version": 3
   },
   "file_extension": ".py",
   "mimetype": "text/x-python",
   "name": "python",
   "nbconvert_exporter": "python",
   "pygments_lexer": "ipython3",
   "version": "3.11.9"
  }
 },
 "nbformat": 4,
 "nbformat_minor": 5
}
