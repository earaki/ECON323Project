{
 "cells": [
  {
   "cell_type": "markdown",
   "id": "b25db62c-1fd4-4ce3-bb12-4f91f836462b",
   "metadata": {},
   "source": [
    "***Predicting GDP/GNP Growth With Football-related Metrics***"
   ]
  },
  {
   "cell_type": "markdown",
   "id": "b0c355fa-115d-4616-acf4-69abae5bc197",
   "metadata": {},
   "source": [
    "***Primary Research Question***\n",
    "\n",
    "To what extent can football-related metrics (e.g. FIFA rankings, tournament participation, football infrastructure in a country) predict year-over-year GDP and GNP growth across countries where football is the biggest sport?\n",
    "\n",
    "***Organization:***\n",
    "\n",
    "**Step 1: Defining Footballing Countries**\n",
    "\n",
    "- First we define countries where football is culturally significant\n",
    "\n",
    "**Step 2: Data Collection**\n",
    "\n",
    "- Football Metrics\n",
    "- Economic Metrics\n",
    "    \n",
    "**Step 3: Data Preprocessing**\n",
    "\n",
    "- Cleaning and merging data into one dataset with GDP and GNP as target variables\n",
    "    \n",
    "**Step 4: Predictive Analysis**\n",
    "\n",
    "- Regression model to predict GDP/GNP\n",
    "- Classification model to predict whether GDP/GNP will increase or decrease\n",
    "    \n",
    "**Step 5: Analysis**\n",
    "\n",
    "- Can football-related metrics be significant predictors of GDP growth?\n",
    "- Random Forest can help find important features with its criterion hyperparameter\n",
    "    \n",
    "**Step 6: Findings**\n",
    "\n",
    "- Key takeaways\"\n",
    "- Findings for future research"
   ]
  },
  {
   "cell_type": "markdown",
   "id": "0a43e47b-ed57-4de3-8c50-7b9e08a3dd67",
   "metadata": {},
   "source": [
    "***Step 1: Defining football***\n",
    "\n",
    "In the first step of our project, we find the top 10 countries where football is the most popular sport. \n",
    "\n",
    "For this metric, we build upon research done by [Ticketgum](https://www.ticketgum.com/blog/most-football-crazy-countries). In order to find the countries that are the craziest about football, Ticketgum performed research on 42 countries on variables including:\n",
    "\n",
    "- Number of football stadiums and their capacities\n",
    "- Match attendance rates\n",
    "- Total market value\n",
    "- Interest in the World Cup\n",
    "- Domestic broadcast deal values\n",
    "\n",
    "Ticketgum took these variables and used a weighted average to create an index for the 42 countries. Here are the rankings that Ticketgum found:\n",
    "\n",
    "1. England (8.37 out of 10)\n",
    "2. Spain (7.83 out of 10)\n",
    "3. Germany (7.83 out of 10)\n",
    "4. Brazil (7.60 out of 10)\n",
    "5. Italy  (7.52 out of 10)\n",
    "6. Argentina (7.17 out of 10)\n",
    "7. Mexico (6.71 out of 10)\n",
    "8. United States (6.71 out of 10)\n",
    "9. France (6.63 out of 10)\n",
    "10. Saudi Arabia (5.74 out of 10)\n",
    "\n",
    "We decided to use the findings of this study as the metric for the countries where football is the most popular sport because of the criteria. \n",
    "\n",
    "We wanted to make sure that the criteria used to find the countries did not overlap with the criteria we were going to use for the following analysis. "
   ]
  },
  {
   "cell_type": "markdown",
   "id": "727fbec2-f5da-4a90-b16c-70255ead3a5b",
   "metadata": {},
   "source": [
    "***Step 2: Data Collection***\n",
    "\n",
    "**Football Metrics**\n"
   ]
  },
  {
   "cell_type": "code",
   "execution_count": 20,
   "id": "25e53f47-e62b-4a4e-b051-ca8f16dc8f58",
   "metadata": {},
   "outputs": [
    {
     "name": "stdout",
     "output_type": "stream",
     "text": [
      "\u001b[33mWARNING: Skipping /opt/conda/lib/python3.11/site-packages/nlopt-2.7.1.dist-info due to invalid metadata entry 'name'\u001b[0m\u001b[33m\n",
      "\u001b[0m\u001b[33mWARNING: Skipping /opt/conda/lib/python3.11/site-packages/nlopt-2.7.1.dist-info due to invalid metadata entry 'name'\u001b[0m\u001b[33m\n",
      "\u001b[0mRequirement already satisfied: pandas in /opt/conda/lib/python3.11/site-packages (2.2.2)\n",
      "Requirement already satisfied: numpy>=1.23.2 in /opt/conda/lib/python3.11/site-packages (from pandas) (1.26.4)\n",
      "Requirement already satisfied: python-dateutil>=2.8.2 in /opt/conda/lib/python3.11/site-packages (from pandas) (2.9.0)\n",
      "Requirement already satisfied: pytz>=2020.1 in /opt/conda/lib/python3.11/site-packages (from pandas) (2024.1)\n",
      "Requirement already satisfied: tzdata>=2022.7 in /opt/conda/lib/python3.11/site-packages (from pandas) (2024.1)\n",
      "Requirement already satisfied: six>=1.5 in /opt/conda/lib/python3.11/site-packages (from python-dateutil>=2.8.2->pandas) (1.16.0)\n",
      "\u001b[33mWARNING: Skipping /opt/conda/lib/python3.11/site-packages/nlopt-2.7.1.dist-info due to invalid metadata entry 'name'\u001b[0m\u001b[33m\n",
      "\u001b[0m\u001b[33mWARNING: Skipping /opt/conda/lib/python3.11/site-packages/nlopt-2.7.1.dist-info due to invalid metadata entry 'name'\u001b[0m\u001b[33m\n",
      "\u001b[0m"
     ]
    }
   ],
   "source": [
    "!pip install pandas\n",
    "import pandas as pd"
   ]
  },
  {
   "cell_type": "code",
   "execution_count": 3,
   "id": "68d78094-0157-4c5a-b862-a0c8d9b03d3b",
   "metadata": {},
   "outputs": [
    {
     "name": "stdout",
     "output_type": "stream",
     "text": [
      "      RK                      Team  Total Points  Previous Points\n",
      "0      1                 Argentina       1883.50          1889.02\n",
      "1      2                    France       1859.85          1851.92\n",
      "2      3                     Spain       1844.33          1836.42\n",
      "3      4                   England       1807.83          1817.28\n",
      "4      5                    Brazil       1784.37          1772.02\n",
      "..   ...                       ...           ...              ...\n",
      "205  206  Turks and Caicos Islands        803.98           802.81\n",
      "206  207    British Virgin Islands        780.30           790.63\n",
      "207  208         US Virgin Islands        779.71           792.15\n",
      "208  209                  Anguilla        769.31           782.08\n",
      "209  210                San Marino        737.04           746.05\n",
      "\n",
      "[210 rows x 4 columns]\n"
     ]
    }
   ],
   "source": [
    "# 2024\n",
    "# Load your dataset \n",
    "fifa_ranking_2024 = pd.read_csv('Data sets/Fifa Rankings (2010-2024)/FIFA Ranking 2024.csv')\n",
    "\n",
    "# Step 1: Clean the \"Team\" column to extract only the country name\n",
    "# Remove extra text such as codes (e.g., ARG) and URLs\n",
    "fifa_ranking_2024['Team'] = fifa_ranking_2024['Team'].str.replace(r'[A-Z]{3}\\s*https.*', '', regex=True)\n",
    "\n",
    "# Step 2: Save the cleaned DataFrame to a new CSV file\n",
    "cleaned_file_path = 'Data sets/Fifa Rankings (2010-2024)/FIFA Ranking 2024 Cleaned.csv'\n",
    "fifa_ranking_2024.to_csv(cleaned_file_path, index=False)\n",
    "\n",
    "fifa_ranking_2024 = fifa_ranking_2024.drop(columns=['Unnamed: 6', 'Unnamed: 7', '+/-', 'Match window'])\n",
    "\n",
    "# Step 3: Display the cleaned \"Team\" column\n",
    "print(fifa_ranking_2024)"
   ]
  },
  {
   "cell_type": "code",
   "execution_count": 4,
   "id": "65960fa6-0604-4494-bd87-2252f8097bac",
   "metadata": {},
   "outputs": [
    {
     "name": "stdout",
     "output_type": "stream",
     "text": [
      "      RK                      Team  Total Points  Previous Points\n",
      "0      1                 Argentina       1855.20          1855.20\n",
      "1      2                    France       1845.44          1845.44\n",
      "2      3                   England       1800.05          1800.05\n",
      "3      4                   Belgium       1798.46          1798.46\n",
      "4      5                    Brazil       1784.09          1784.09\n",
      "..   ...                       ...           ...              ...\n",
      "201  202                   Bahamas        835.81           835.81\n",
      "202  203             Liechtenstein        833.01           833.01\n",
      "203  204                 Sri Lanka        822.03           822.03\n",
      "204  205                      Guam        821.91           821.91\n",
      "205  206  Turks and Caicos Islands        818.57           818.57\n",
      "\n",
      "[206 rows x 4 columns]\n"
     ]
    }
   ],
   "source": [
    "# 2023\n",
    "# Load your dataset \n",
    "fifa_ranking_2023 = pd.read_csv('Data sets/Fifa Rankings (2010-2024)/FIFA Ranking 2023.csv')\n",
    "\n",
    "# Step 1: Clean the \"Team\" column to extract only the country name\n",
    "# Remove extra text such as codes (e.g., ARG) and URLs\n",
    "fifa_ranking_2023['Team'] = fifa_ranking_2023['Team'].str.replace(r'[A-Z]{3}\\s*https.*', '', regex=True)\n",
    "\n",
    "# Step 2: Save the cleaned DataFrame to a new CSV file\n",
    "cleaned_file_path = 'Data sets/Fifa Rankings (2010-2024)/FIFA Ranking 2024 Cleaned.csv'\n",
    "fifa_ranking_2023.to_csv(cleaned_file_path, index=False)\n",
    "\n",
    "fifa_ranking_2023 = fifa_ranking_2023.drop(columns=['+/-', 'Match window', 'More'])\n",
    "\n",
    "# Step 3: Display the cleaned \"Team\" column\n",
    "print(fifa_ranking_2023)"
   ]
  },
  {
   "cell_type": "code",
   "execution_count": 5,
   "id": "659a5846-b565-4e84-a3b0-13c93a9265fc",
   "metadata": {},
   "outputs": [
    {
     "name": "stdout",
     "output_type": "stream",
     "text": [
      "      RK                    Team  Total Points  Previous Points\n",
      "0      1                  Brazil       1840.77          1841.30\n",
      "1      2               Argentina       1838.38          1773.88\n",
      "2      3                  France       1823.39          1759.78\n",
      "3      4                 Belgium       1781.30          1816.71\n",
      "4      5                 England       1774.19          1728.47\n",
      "..   ...                     ...           ...              ...\n",
      "206  207               Sri Lanka        825.25           825.25\n",
      "207  208       US Virgin Islands        823.97           823.97\n",
      "208  209  British Virgin Islands        809.32           809.32\n",
      "209  210                Anguilla        790.74           790.74\n",
      "210  211              San Marino        763.15           762.22\n",
      "\n",
      "[211 rows x 4 columns]\n"
     ]
    }
   ],
   "source": [
    "# 2022\n",
    "# Load your dataset \n",
    "fifa_ranking_2022 = pd.read_csv('Data sets/Fifa Rankings (2010-2024)/FIFA Ranking 2022.csv')\n",
    "\n",
    "# Step 1: Clean the \"Team\" column to extract only the country name\n",
    "# Remove extra text such as codes (e.g., ARG) and URLs\n",
    "fifa_ranking_2022['Team'] = fifa_ranking_2022['Team'].str.replace(r'[A-Z]{3}\\s*https.*', '', regex=True)\n",
    "\n",
    "# Step 2: Save the cleaned DataFrame to a new CSV file\n",
    "cleaned_file_path = 'Data sets/Fifa Rankings (2010-2024)/FIFA Ranking 2022 Cleaned.csv'\n",
    "fifa_ranking_2022.to_csv(cleaned_file_path, index=False)\n",
    "\n",
    "fifa_ranking_2022 = fifa_ranking_2022.drop(columns=['+/-', 'Match window', 'More'])\n",
    "\n",
    "# Step 3: Display the cleaned \"Team\" column\n",
    "print(fifa_ranking_2022)"
   ]
  },
  {
   "cell_type": "code",
   "execution_count": 6,
   "id": "4b487121-7cb3-4e8e-acf3-1765e077dcdf",
   "metadata": {},
   "outputs": [
    {
     "name": "stdout",
     "output_type": "stream",
     "text": [
      "      RK                    Team  Total Points  Previous Points\n",
      "0      1                 Belgium       1828.45          1828.45\n",
      "1      2                  Brazil       1826.35          1826.35\n",
      "2      3                  France       1786.15          1786.15\n",
      "3      4                 England       1755.52          1755.52\n",
      "4      5               Argentina       1750.51          1750.51\n",
      "..   ...                     ...           ...              ...\n",
      "205  206                    Guam        838.33           838.33\n",
      "206  207       US Virgin Islands        816.13           816.13\n",
      "207  208  British Virgin Islands        812.94           812.94\n",
      "208  209                Anguilla        792.34           792.34\n",
      "209  210              San Marino        780.33           780.33\n",
      "\n",
      "[210 rows x 4 columns]\n"
     ]
    }
   ],
   "source": [
    "# 2021\n",
    "# Load your dataset \n",
    "fifa_ranking_2021 = pd.read_csv('Data sets/Fifa Rankings (2010-2024)/FIFA Ranking 2021.csv')\n",
    "\n",
    "# Step 1: Clean the \"Team\" column to extract only the country name\n",
    "# Remove extra text such as codes (e.g., ARG) and URLs\n",
    "fifa_ranking_2021['Team'] = fifa_ranking_2021['Team'].str.replace(r'[A-Z]{3}\\s*https.*', '', regex=True)\n",
    "\n",
    "# Step 2: Save the cleaned DataFrame to a new CSV file\n",
    "cleaned_file_path = 'Data sets/Fifa Rankings (2010-2024)/FIFA Ranking 2021 Cleaned.csv'\n",
    "fifa_ranking_2021.to_csv(cleaned_file_path, index=False)\n",
    "\n",
    "fifa_ranking_2021 = fifa_ranking_2021.drop(columns=['+/-', 'Match window', 'More'])\n",
    "\n",
    "# Step 3: Display the cleaned \"Team\" column\n",
    "print(fifa_ranking_2021)"
   ]
  },
  {
   "cell_type": "code",
   "execution_count": 7,
   "id": "7f578a5c-ef73-40d8-a327-bd8aaca16275",
   "metadata": {},
   "outputs": [
    {
     "name": "stdout",
     "output_type": "stream",
     "text": [
      "      RK                    Team  Total Points  Previous Points\n",
      "0      1                 Belgium          1780             1780\n",
      "1      2                  France          1755             1755\n",
      "2      3                  Brazil          1743             1743\n",
      "3      4                 England          1670             1670\n",
      "4      5                Portugal          1662             1662\n",
      "..   ...                     ...           ...              ...\n",
      "205  206               Sri Lanka           853              853\n",
      "206  207       US Virgin Islands           844              844\n",
      "207  208  British Virgin Islands           842              842\n",
      "208  209                Anguilla           821              821\n",
      "209  210              San Marino           810              810\n",
      "\n",
      "[210 rows x 4 columns]\n"
     ]
    }
   ],
   "source": [
    "# 2020\n",
    "# Load your dataset \n",
    "fifa_ranking_2020 = pd.read_csv('Data sets/Fifa Rankings (2010-2024)/FIFA Ranking 2020.csv')\n",
    "\n",
    "# Step 1: Clean the \"Team\" column to extract only the country name\n",
    "# Remove extra text such as codes (e.g., ARG) and URLs\n",
    "fifa_ranking_2020['Team'] = fifa_ranking_2020['Team'].str.replace(r'[A-Z]{3}\\s*https.*', '', regex=True)\n",
    "\n",
    "# Step 2: Save the cleaned DataFrame to a new CSV file\n",
    "cleaned_file_path = 'Data sets/Fifa Rankings (2010-2024)/FIFA Ranking 2020 Cleaned.csv'\n",
    "fifa_ranking_2020.to_csv(cleaned_file_path, index=False)\n",
    "\n",
    "fifa_ranking_2020 = fifa_ranking_2020.drop(columns=['+/-', 'Match window', 'More'])\n",
    "\n",
    "# Step 3: Display the cleaned \"Team\" column\n",
    "print(fifa_ranking_2020)"
   ]
  },
  {
   "cell_type": "code",
   "execution_count": 8,
   "id": "91b50b52-552e-4942-ab67-f4836d9ec2fb",
   "metadata": {},
   "outputs": [
    {
     "name": "stdout",
     "output_type": "stream",
     "text": [
      "      RK                    Team  Total Points  Previous Points\n",
      "0      1                 Belgium          1765             1765\n",
      "1      2                  France          1733             1733\n",
      "2      3                  Brazil          1712             1712\n",
      "3      4                 England          1661             1661\n",
      "4      5                 Uruguay          1645             1645\n",
      "..   ...                     ...           ...              ...\n",
      "205  205                 Eritrea           856              856\n",
      "206  207       US Virgin Islands           844              844\n",
      "207  208  British Virgin Islands           842              842\n",
      "208  209              San Marino           824              824\n",
      "209  210                Anguilla           821              821\n",
      "\n",
      "[210 rows x 4 columns]\n"
     ]
    }
   ],
   "source": [
    "# 2019\n",
    "# Load your dataset \n",
    "fifa_ranking_2019 = pd.read_csv('Data sets/Fifa Rankings (2010-2024)/FIFA Ranking 2019.csv')\n",
    "\n",
    "# Step 1: Clean the \"Team\" column to extract only the country name\n",
    "# Remove extra text such as codes (e.g., ARG) and URLs\n",
    "fifa_ranking_2019['Team'] = fifa_ranking_2019['Team'].str.replace(r'[A-Z]{3}\\s*https.*', '', regex=True)\n",
    "\n",
    "# Step 2: Save the cleaned DataFrame to a new CSV file\n",
    "cleaned_file_path = 'Data sets/Fifa Rankings (2010-2024)/FIFA Ranking 2019 Cleaned.csv'\n",
    "fifa_ranking_2019.to_csv(cleaned_file_path, index=False)\n",
    "\n",
    "fifa_ranking_2019 = fifa_ranking_2019.drop(columns=['+/-', 'Match window', 'More'])\n",
    "\n",
    "# Step 3: Display the cleaned \"Team\" column\n",
    "print(fifa_ranking_2019)"
   ]
  },
  {
   "cell_type": "code",
   "execution_count": 9,
   "id": "65ecc4cd-97db-40ca-9a39-d27107e4d92d",
   "metadata": {},
   "outputs": [
    {
     "name": "stdout",
     "output_type": "stream",
     "text": [
      "      RK                      Team  Total Points  Previous Points\n",
      "0      1                   Belgium          1727             1727\n",
      "1      2                    France          1726             1726\n",
      "2      3                    Brazil          1676             1676\n",
      "3      4                   Croatia          1634             1634\n",
      "4      5                   England          1631             1631\n",
      "..   ...                       ...           ...              ...\n",
      "206  207    British Virgin Islands           867              867\n",
      "207  208  Turks and Caicos Islands           864              864\n",
      "208  208                  Anguilla           864              864\n",
      "209  210                   Bahamas           858              858\n",
      "210  211                San Marino           854              854\n",
      "\n",
      "[211 rows x 4 columns]\n"
     ]
    }
   ],
   "source": [
    "# 2018\n",
    "# Load your dataset \n",
    "fifa_ranking_2018 = pd.read_csv('Data sets/Fifa Rankings (2010-2024)/FIFA Ranking 2018.csv')\n",
    "\n",
    "# Step 1: Clean the \"Team\" column to extract only the country name\n",
    "# Remove extra text such as codes (e.g., ARG) and URLs\n",
    "fifa_ranking_2018['Team'] = fifa_ranking_2018['Team'].str.replace(r'[A-Z]{3}\\s*https.*', '', regex=True)\n",
    "\n",
    "# Step 2: Save the cleaned DataFrame to a new CSV file\n",
    "cleaned_file_path = 'Data sets/Fifa Rankings (2010-2024)/FIFA Ranking 2018 Cleaned.csv'\n",
    "fifa_ranking_2018.to_csv(cleaned_file_path, index=False)\n",
    "\n",
    "fifa_ranking_2018 = fifa_ranking_2018.drop(columns=['+/-', 'More'])\n",
    "\n",
    "# Step 3: Display the cleaned \"Team\" column\n",
    "print(fifa_ranking_2018)"
   ]
  },
  {
   "cell_type": "code",
   "execution_count": 10,
   "id": "f486a931-c9a0-4cd5-b595-eebed6cfcb76",
   "metadata": {},
   "outputs": [
    {
     "name": "stdout",
     "output_type": "stream",
     "text": [
      "      RK       Team  Total Points  Previous Points\n",
      "0      1    Germany          1602             1602\n",
      "1      2     Brazil          1483             1483\n",
      "2      3   Portugal          1358             1358\n",
      "3      4  Argentina          1348             1348\n",
      "4      5    Belgium          1325             1325\n",
      "..   ...        ...           ...              ...\n",
      "206  206    Bahamas             0                0\n",
      "207  206    Eritrea             0                0\n",
      "208  206  Gibraltar             0                0\n",
      "209  206    Somalia             0                0\n",
      "210  206      Tonga             0                0\n",
      "\n",
      "[211 rows x 4 columns]\n"
     ]
    }
   ],
   "source": [
    "# 2017\n",
    "# Load your dataset \n",
    "fifa_ranking_2017 = pd.read_csv('Data sets/Fifa Rankings (2010-2024)/FIFA Ranking 2017.csv')\n",
    "\n",
    "# Step 1: Clean the \"Team\" column to extract only the country name\n",
    "# Remove extra text such as codes (e.g., ARG) and URLs\n",
    "fifa_ranking_2017['Team'] = fifa_ranking_2017['Team'].str.replace(r'[A-Z]{3}\\s*https.*', '', regex=True)\n",
    "\n",
    "# Step 2: Save the cleaned DataFrame to a new CSV file\n",
    "cleaned_file_path = 'Data sets/Fifa Rankings (2010-2024)/FIFA Ranking 2017 Cleaned.csv'\n",
    "fifa_ranking_2017.to_csv(cleaned_file_path, index=False)\n",
    "\n",
    "fifa_ranking_2017 = fifa_ranking_2017.drop(columns=['+/-', 'More'])\n",
    "\n",
    "# Step 3: Display the cleaned \"Team\" column\n",
    "print(fifa_ranking_2017)"
   ]
  },
  {
   "cell_type": "code",
   "execution_count": 11,
   "id": "9c5d1e58-1da3-4406-bb98-536c7c819284",
   "metadata": {},
   "outputs": [
    {
     "name": "stdout",
     "output_type": "stream",
     "text": [
      "      RK       Team  Total Points  Previous Points\n",
      "0      1  Argentina          1634             1634\n",
      "1      2     Brazil          1544             1544\n",
      "2      3    Germany          1433             1433\n",
      "3      4      Chile          1404             1404\n",
      "4      5    Belgium          1368             1368\n",
      "..   ...        ...           ...              ...\n",
      "206  205   Djibouti             0                0\n",
      "207  205    Somalia             0                0\n",
      "208  205  Gibraltar             0                0\n",
      "209  205      Tonga             0                0\n",
      "210  205    Eritrea             0                0\n",
      "\n",
      "[211 rows x 4 columns]\n"
     ]
    }
   ],
   "source": [
    "# 2016\n",
    "# Load your dataset \n",
    "fifa_ranking_2016 = pd.read_csv('Data sets/Fifa Rankings (2010-2024)/FIFA Ranking 2016.csv')\n",
    "\n",
    "# Step 1: Clean the \"Team\" column to extract only the country name\n",
    "# Remove extra text such as codes (e.g., ARG) and URLs\n",
    "fifa_ranking_2016['Team'] = fifa_ranking_2016['Team'].str.replace(r'[A-Z]{3}\\s*https.*', '', regex=True)\n",
    "\n",
    "# Step 2: Save the cleaned DataFrame to a new CSV file\n",
    "cleaned_file_path = 'Data sets/Fifa Rankings (2010-2024)/FIFA Ranking 2016 Cleaned.csv'\n",
    "fifa_ranking_2016.to_csv(cleaned_file_path, index=False)\n",
    "\n",
    "fifa_ranking_2016 = fifa_ranking_2016.drop(columns=['+/-', 'More'])\n",
    "\n",
    "# Step 3: Display the cleaned \"Team\" column\n",
    "print(fifa_ranking_2016)"
   ]
  },
  {
   "cell_type": "code",
   "execution_count": 12,
   "id": "199b0492-4fbe-4ca2-a73f-e356bccc6ba7",
   "metadata": {},
   "outputs": [
    {
     "name": "stdout",
     "output_type": "stream",
     "text": [
      "      RK       Team  Total Points  Previous Points\n",
      "0      1    Belgium          1494             1440\n",
      "1      2  Argentina          1455             1383\n",
      "2      3      Spain          1370             1287\n",
      "3      4    Germany          1347             1388\n",
      "4      5      Chile          1273             1288\n",
      "..   ...        ...           ...              ...\n",
      "204  204    Bahamas             0                0\n",
      "205  204   Djibouti             0                0\n",
      "206  204    Eritrea             0                8\n",
      "207  204    Somalia             0                6\n",
      "208  204      Tonga             0               17\n",
      "\n",
      "[209 rows x 4 columns]\n"
     ]
    }
   ],
   "source": [
    "# 2015\n",
    "# Load your dataset \n",
    "fifa_ranking_2015 = pd.read_csv('Data sets/Fifa Rankings (2010-2024)/FIFA Ranking 2015.csv')\n",
    "\n",
    "# Step 1: Clean the \"Team\" column to extract only the country name\n",
    "# Remove extra text such as codes (e.g., ARG) and URLs\n",
    "fifa_ranking_2015['Team'] = fifa_ranking_2015['Team'].str.replace(r'[A-Z]{3}\\s*https.*', '', regex=True)\n",
    "\n",
    "# Step 2: Save the cleaned DataFrame to a new CSV file\n",
    "cleaned_file_path = 'Data sets/Fifa Rankings (2010-2024)/FIFA Ranking 2015 Cleaned.csv'\n",
    "fifa_ranking_2015.to_csv(cleaned_file_path, index=False)\n",
    "\n",
    "fifa_ranking_2015 = fifa_ranking_2015.drop(columns=['+/-', 'More'])\n",
    "\n",
    "# Step 3: Display the cleaned \"Team\" column\n",
    "print(fifa_ranking_2015)"
   ]
  },
  {
   "cell_type": "code",
   "execution_count": 13,
   "id": "d8fc9dc9-7ae2-4a1c-8a12-e8802083dd58",
   "metadata": {},
   "outputs": [
    {
     "name": "stdout",
     "output_type": "stream",
     "text": [
      "      RK            Team  Total Points  Previous Points\n",
      "0      1         Germany          1725             1725\n",
      "1      2       Argentina          1538             1538\n",
      "2      3        Colombia          1450             1450\n",
      "3      4         Belgium          1417             1417\n",
      "4      5     Netherlands          1374             1374\n",
      "..   ...             ...           ...              ...\n",
      "204  205  Cayman Islands             5                5\n",
      "205  206        Djibouti             4                5\n",
      "206  206    Cook Islands             4                4\n",
      "207  208        Anguilla             2                2\n",
      "208  209          Bhutan             0                0\n",
      "\n",
      "[209 rows x 4 columns]\n"
     ]
    }
   ],
   "source": [
    "# 2014\n",
    "# Load your dataset \n",
    "fifa_ranking_2014 = pd.read_csv('Data sets/Fifa Rankings (2010-2024)/FIFA Ranking 2014.csv')\n",
    "\n",
    "# Step 1: Clean the \"Team\" column to extract only the country name\n",
    "# Remove extra text such as codes (e.g., ARG) and URLs\n",
    "fifa_ranking_2014['Team'] = fifa_ranking_2014['Team'].str.replace(r'[A-Z]{3}\\s*https.*', '', regex=True)\n",
    "\n",
    "# Step 2: Save the cleaned DataFrame to a new CSV file\n",
    "cleaned_file_path = 'Data sets/Fifa Rankings (2010-2024)/FIFA Ranking 2014 Cleaned.csv'\n",
    "fifa_ranking_2014.to_csv(cleaned_file_path, index=False)\n",
    "\n",
    "# Drop unnecessary columns\n",
    "fifa_ranking_2014 = fifa_ranking_2014.drop(columns=['+/-', 'More'])\n",
    "\n",
    "# Step 3: Display the cleaned \"Team\" column\n",
    "print(fifa_ranking_2014)"
   ]
  },
  {
   "cell_type": "code",
   "execution_count": 14,
   "id": "e05bdc07-6b95-450d-a018-7bc3de217b21",
   "metadata": {},
   "outputs": [
    {
     "name": "stdout",
     "output_type": "stream",
     "text": [
      "      RK                      Team  Total Points  Previous Points\n",
      "0      1                     Spain          1507             1507\n",
      "1      2                   Germany          1318             1318\n",
      "2      3                 Argentina          1251             1251\n",
      "3      4                  Colombia          1200             1200\n",
      "4      5                  Portugal          1172             1172\n",
      "..   ...                       ...           ...              ...\n",
      "204  205              Cook Islands             5                5\n",
      "205  206                  Anguilla             3                3\n",
      "206  207                    Bhutan             0                0\n",
      "207  207                San Marino             0                0\n",
      "208  207  Turks and Caicos Islands             0                0\n",
      "\n",
      "[209 rows x 4 columns]\n"
     ]
    }
   ],
   "source": [
    "# 2013\n",
    "# Load your dataset \n",
    "fifa_ranking_2013 = pd.read_csv('Data sets/Fifa Rankings (2010-2024)/FIFA Ranking 2013.csv')\n",
    "\n",
    "# Step 1: Clean the \"Team\" column to extract only the country name\n",
    "# Remove extra text such as codes (e.g., ARG) and URLs\n",
    "fifa_ranking_2013['Team'] = fifa_ranking_2013['Team'].str.replace(r'[A-Z]{3}\\s*https.*', '', regex=True)\n",
    "\n",
    "# Step 2: Save the cleaned DataFrame to a new CSV file\n",
    "cleaned_file_path = 'Data sets/Fifa Rankings (2010-2024)/FIFA Ranking 2013 Cleaned.csv'\n",
    "fifa_ranking_2013.to_csv(cleaned_file_path, index=False)\n",
    "\n",
    "# Drop unnecessary columns\n",
    "fifa_ranking_2013 = fifa_ranking_2013.drop(columns=['+/-', 'More'])\n",
    "\n",
    "# Step 3: Display the cleaned \"Team\" column\n",
    "print(fifa_ranking_2013)"
   ]
  },
  {
   "cell_type": "code",
   "execution_count": 15,
   "id": "bdc8c87a-d799-4e4c-bb82-2fa092a7ffd0",
   "metadata": {},
   "outputs": [
    {
     "name": "stdout",
     "output_type": "stream",
     "text": [
      "      RK                      Team  Total Points  Previous Points\n",
      "0      1                     Spain          1606             1564\n",
      "1      2                   Germany          1437             1421\n",
      "2      3                 Argentina          1290             1349\n",
      "3      4                     Italy          1165             1169\n",
      "4      5                  Colombia          1164             1110\n",
      "..   ...                       ...           ...              ...\n",
      "204  205                  Anguilla             4                4\n",
      "205  206                Mauritania             3                3\n",
      "206  207                    Bhutan             0                0\n",
      "207  207                San Marino             0                0\n",
      "208  207  Turks and Caicos Islands             0                0\n",
      "\n",
      "[209 rows x 4 columns]\n"
     ]
    }
   ],
   "source": [
    "# 2012\n",
    "# Load your dataset \n",
    "fifa_ranking_2012 = pd.read_csv('Data sets/Fifa Rankings (2010-2024)/FIFA Ranking 2012.csv')\n",
    "\n",
    "# Step 1: Clean the \"Team\" column to extract only the country name\n",
    "# Remove extra text such as codes (e.g., ARG) and URLs\n",
    "fifa_ranking_2012['Team'] = fifa_ranking_2012['Team'].str.replace(r'[A-Z]{3}\\s*https.*', '', regex=True)\n",
    "\n",
    "# Step 2: Save the cleaned DataFrame to a new CSV file\n",
    "cleaned_file_path = 'Data sets/Fifa Rankings (2010-2024)/FIFA Ranking 2012 Cleaned.csv'\n",
    "fifa_ranking_2012.to_csv(cleaned_file_path, index=False)\n",
    "\n",
    "# Drop unnecessary columns\n",
    "fifa_ranking_2012 = fifa_ranking_2012.drop(columns=['+/-', 'More'])\n",
    "\n",
    "# Step 3: Display the cleaned dataset\n",
    "print(fifa_ranking_2012)"
   ]
  },
  {
   "cell_type": "code",
   "execution_count": 16,
   "id": "a66ea44b-205f-4466-a20a-97c983961d79",
   "metadata": {},
   "outputs": [
    {
     "name": "stdout",
     "output_type": "stream",
     "text": [
      "      RK         Team  Total Points  Previous Points\n",
      "0      1        Spain          1564             1564\n",
      "1      2  Netherlands          1365             1365\n",
      "2      3      Germany          1345             1345\n",
      "3      4      Uruguay          1309             1309\n",
      "4      5      England          1173             1173\n",
      "..   ...          ...           ...              ...\n",
      "203  204   Mauritania             4                4\n",
      "204  205  Timor-Leste             2                2\n",
      "205  206      Andorra             0                0\n",
      "206  206   Montserrat             0                0\n",
      "207  206   San Marino             0                0\n",
      "\n",
      "[208 rows x 4 columns]\n"
     ]
    }
   ],
   "source": [
    "# 2011\n",
    "# Load your dataset \n",
    "fifa_ranking_2011 = pd.read_csv('Data sets/Fifa Rankings (2010-2024)/FIFA Ranking 2011.csv')\n",
    "\n",
    "# Step 1: Clean the \"Team\" column to extract only the country name\n",
    "# Remove extra text such as codes (e.g., ARG) and URLs\n",
    "fifa_ranking_2011['Team'] = fifa_ranking_2011['Team'].str.replace(r'[A-Z]{3}\\s*https.*', '', regex=True)\n",
    "\n",
    "# Step 2: Save the cleaned DataFrame to a new CSV file\n",
    "cleaned_file_path = 'Data sets/Fifa Rankings (2010-2024)/FIFA Ranking 2011 Cleaned.csv'\n",
    "fifa_ranking_2011.to_csv(cleaned_file_path, index=False)\n",
    "\n",
    "# Drop unnecessary columns\n",
    "fifa_ranking_2011 = fifa_ranking_2011.drop(columns=['+/-', 'More'])\n",
    "\n",
    "# Step 3: Display the cleaned dataset\n",
    "print(fifa_ranking_2011)"
   ]
  },
  {
   "cell_type": "code",
   "execution_count": 17,
   "id": "57ea81a2-f707-4f38-b13c-ea7728e7dde6",
   "metadata": {},
   "outputs": [
    {
     "name": "stdout",
     "output_type": "stream",
     "text": [
      "      RK                 Team  Total Points  Previous Points\n",
      "0      1                Spain          1887             1920\n",
      "1      2          Netherlands          1723             1718\n",
      "2      3              Germany          1485             1489\n",
      "3      4               Brazil          1446             1493\n",
      "4      5            Argentina          1338             1353\n",
      "..   ...                  ...           ...              ...\n",
      "202  203             Anguilla             0                0\n",
      "203  203       American Samoa             0                0\n",
      "204  203           San Marino             0                0\n",
      "205  203           Montserrat             0                0\n",
      "206  208  Sao Tome e Principe             0                0\n",
      "\n",
      "[207 rows x 4 columns]\n"
     ]
    }
   ],
   "source": [
    "# 2010\n",
    "# Load your dataset \n",
    "fifa_ranking_2010 = pd.read_csv('Data sets/Fifa Rankings (2010-2024)/FIFA Ranking 2010.csv')\n",
    "\n",
    "# Step 1: Clean the \"Team\" column to extract only the country name\n",
    "# Remove extra text such as codes (e.g., ARG) and URLs\n",
    "fifa_ranking_2010['Team'] = fifa_ranking_2010['Team'].str.replace(r'[A-Z]{3}\\s*https.*', '', regex=True)\n",
    "\n",
    "# Step 2: Save the cleaned DataFrame to a new CSV file\n",
    "cleaned_file_path = 'Data sets/Fifa Rankings (2010-2024)/FIFA Ranking 2010 Cleaned.csv'\n",
    "fifa_ranking_2010.to_csv(cleaned_file_path, index=False)\n",
    "\n",
    "# Drop unnecessary columns\n",
    "fifa_ranking_2010 = fifa_ranking_2010.drop(columns=['+/-', 'More'])\n",
    "\n",
    "# Step 3: Display the cleaned dataset\n",
    "print(fifa_ranking_2010)"
   ]
  },
  {
   "cell_type": "code",
   "execution_count": 38,
   "id": "dd3fd070-d477-4365-9801-dc15574e8653",
   "metadata": {},
   "outputs": [
    {
     "name": "stdout",
     "output_type": "stream",
     "text": [
      "   Rk   Nation  # Players      Min\n",
      "0   1    Spain        366  482,043\n",
      "1   2   France        315  479,081\n",
      "2   3    Italy        295  432,371\n",
      "3   4  Germany        214  307,004\n",
      "4   5  England        192  262,464\n",
      "   Rk   Nation  # Players      Min\n",
      "0   1    Spain        371  498,299\n",
      "1   2   France        309  471,749\n",
      "2   3    Italy        297  415,552\n",
      "3   4  Germany        223  308,675\n",
      "4   5  England        195  274,593\n",
      "   Rk   Nation  # Players      Min\n",
      "0   1    Spain        367  517,994\n",
      "1   2   France        316  477,803\n",
      "2   3    Italy        286  390,798\n",
      "3   4  Germany        229  305,124\n",
      "4   5  England        179  235,848\n",
      "   Rk   Nation  # Players      Min\n",
      "0   1    Spain        362  526,958\n",
      "1   2   France        298  435,352\n",
      "2   3    Italy        277  385,095\n",
      "3   4  Germany        254  314,257\n",
      "4   5  England        164  233,055\n",
      "   Rk   Nation  # Players      Min\n",
      "0   1    Spain        415  526,786\n",
      "1   2    Italy        361  359,181\n",
      "2   3   France        346  422,882\n",
      "3   4  Germany        272  298,052\n",
      "4   5  England        227  259,355\n",
      "   Rk   Nation  # Players      Min\n",
      "0   1    Spain        419  523,908\n",
      "1   2   France        383  470,139\n",
      "2   3    Italy        358  352,573\n",
      "3   4  Germany        274  302,573\n",
      "4   5  England        222  218,521\n",
      "   Rk   Nation  # Players      Min\n",
      "0   1    Spain        408  514,963\n",
      "1   2    Italy        382  345,796\n",
      "2   3   France        369  462,336\n",
      "3   4  Germany        268  287,605\n",
      "4   5  England        223  237,175\n",
      "   Rk   Nation  # Players      Min\n",
      "0   1    Spain        413  512,065\n",
      "1   2    Italy        349  363,242\n",
      "2   3   France        343  427,718\n",
      "3   4  Germany        268  303,091\n",
      "4   5  England        215  246,286\n",
      "   Rk   Nation  # Players      Min\n",
      "0   1    Spain        416  531,939\n",
      "1   2   France        368  446,734\n",
      "2   3    Italy        326  329,850\n",
      "3   4  Germany        258  306,074\n",
      "4   5  England        209  222,554\n",
      "   Rk   Nation  # Players      Min\n",
      "0   1    Spain        475  529,187\n",
      "1   2   France        357  360,983\n",
      "2   3    Italy        328  304,329\n",
      "3   4  Germany        282  277,190\n",
      "4   5  England        241  273,479\n",
      "   Rk   Nation  # Players      Min\n",
      "0   1    Spain        520  538,076\n",
      "1   2   France        410  466,473\n",
      "2   3    Italy        344  287,622\n",
      "3   4  Germany        264  271,121\n",
      "4   5  England        257  289,705\n",
      "   Rk   Nation  # Players      Min\n",
      "0   1    Spain        535  511,265\n",
      "1   2   France        416  461,370\n",
      "2   3    Italy        357  280,653\n",
      "3   4  Germany        285  286,310\n",
      "4   5  England        283  267,819\n",
      "   Rk   Nation  # Players      Min\n",
      "0   1    Spain        498  491,583\n",
      "1   2   France        423  454,728\n",
      "2   3    Italy        327  277,480\n",
      "3   4  Germany        287  288,040\n",
      "4   5  England        271  261,507\n",
      "   Rk   Nation  # Players      Min\n",
      "0   1    Spain        496  491,014\n",
      "1   2   France        383  387,213\n",
      "2   3    Italy        320  287,907\n",
      "3   4  England        304  248,476\n",
      "4   5  Germany        295  325,157\n"
     ]
    }
   ],
   "source": [
    "#Loading data for number of players produced by countries in Europe's top 5 leagues \n",
    "#From 2010\n",
    "players2010 = pd.read_csv(\"Data sets/NumberPlayers/2010-2011.csv\")\n",
    "players2010['Nation'] = players2010['Nation'].apply(lambda x: ' '.join(x.split()[1:]))\n",
    "print(players2010.head())\n",
    "\n",
    "#2011\n",
    "players2011 = pd.read_csv(\"Data sets/NumberPlayers/2011-2012.csv\")\n",
    "players2011['Nation'] = players2011['Nation'].apply(lambda x: ' '.join(x.split()[1:]))\n",
    "print(players2011.head())\n",
    "\n",
    "#2012\n",
    "players2012 = pd.read_csv(\"Data sets/NumberPlayers/2012-2013.csv\")\n",
    "players2012['Nation'] = players2012['Nation'].apply(lambda x: ' '.join(x.split()[1:]))\n",
    "print(players2012.head())\n",
    "\n",
    "#2013\n",
    "players2013 = pd.read_csv(\"Data sets/NumberPlayers/2013-2014.csv\")\n",
    "players2013['Nation'] = players2013['Nation'].apply(lambda x: ' '.join(x.split()[1:]))\n",
    "print(players2013.head())\n",
    "\n",
    "#2014\n",
    "players2014 = pd.read_csv(\"Data sets/NumberPlayers/2014-2015.csv\")\n",
    "players2014['Nation'] = players2014['Nation'].apply(lambda x: ' '.join(x.split()[1:]))\n",
    "print(players2014.head())\n",
    "\n",
    "#2015\n",
    "players2015 = pd.read_csv(\"Data sets/NumberPlayers/2015-2016.csv\")\n",
    "players2015['Nation'] = players2015['Nation'].apply(lambda x: ' '.join(x.split()[1:]))\n",
    "print(players2015.head())\n",
    "\n",
    "#2016\n",
    "players2016 = pd.read_csv(\"Data sets/NumberPlayers/2016-2017.csv\")\n",
    "players2016['Nation'] = players2016['Nation'].apply(lambda x: ' '.join(x.split()[1:]))\n",
    "print(players2016.head())\n",
    "\n",
    "#2017\n",
    "players2017 = pd.read_csv(\"Data sets/NumberPlayers/2017-2018.csv\")\n",
    "players2017['Nation'] = players2017['Nation'].apply(lambda x: ' '.join(x.split()[1:]))\n",
    "print(players2017.head())\n",
    "\n",
    "#2018\n",
    "players2018 = pd.read_csv(\"Data sets/NumberPlayers/2018-2019.csv\")\n",
    "players2018['Nation'] = players2018['Nation'].apply(lambda x: ' '.join(x.split()[1:]))\n",
    "print(players2018.head())\n",
    "\n",
    "#2019\n",
    "players2019 = pd.read_csv(\"Data sets/NumberPlayers/2019-2020.csv\")\n",
    "players2019['Nation'] = players2019['Nation'].apply(lambda x: ' '.join(x.split()[1:]))\n",
    "print(players2019.head())\n",
    "\n",
    "#2020\n",
    "players2020 = pd.read_csv(\"Data sets/NumberPlayers/2020-2021.csv\")\n",
    "players2020['Nation'] = players2020['Nation'].apply(lambda x: ' '.join(x.split()[1:]))\n",
    "print(players2020.head())\n",
    "\n",
    "#2021\n",
    "players2021 = pd.read_csv(\"Data sets/NumberPlayers/2021-2022.csv\")\n",
    "players2021['Nation'] = players2021['Nation'].apply(lambda x: ' '.join(x.split()[1:]))\n",
    "print(players2021.head())\n",
    "\n",
    "#2022\n",
    "players2022 = pd.read_csv(\"Data sets/NumberPlayers/2022-2023.csv\")\n",
    "players2022['Nation'] = players2022['Nation'].apply(lambda x: ' '.join(x.split()[1:]))\n",
    "print(players2022.head())\n",
    "\n",
    "#2023\n",
    "players2023 = pd.read_csv(\"Data sets/NumberPlayers/2023-2024.csv\")\n",
    "players2023['Nation'] = players2023['Nation'].apply(lambda x: ' '.join(x.split()[1:]))\n",
    "print(players2023.head())"
   ]
  },
  {
   "cell_type": "code",
   "execution_count": 21,
   "id": "c2aa66d7-b7c0-4cc8-b202-04a59390d748",
   "metadata": {},
   "outputs": [
    {
     "ename": "FileNotFoundError",
     "evalue": "[Errno 2] No such file or directory: 'Data sets/GDP/GDP.csv'",
     "output_type": "error",
     "traceback": [
      "\u001b[0;31m---------------------------------------------------------------------------\u001b[0m",
      "\u001b[0;31mFileNotFoundError\u001b[0m                         Traceback (most recent call last)",
      "Cell \u001b[0;32mIn[21], line 2\u001b[0m\n\u001b[1;32m      1\u001b[0m \u001b[38;5;66;03m# Loading GDP data (2010-2023)\u001b[39;00m\n\u001b[0;32m----> 2\u001b[0m gdp \u001b[38;5;241m=\u001b[39m \u001b[43mpd\u001b[49m\u001b[38;5;241;43m.\u001b[39;49m\u001b[43mread_csv\u001b[49m\u001b[43m(\u001b[49m\u001b[38;5;124;43m\"\u001b[39;49m\u001b[38;5;124;43mData sets/GDP/GDP.csv\u001b[39;49m\u001b[38;5;124;43m\"\u001b[39;49m\u001b[43m)\u001b[49m\n\u001b[1;32m      4\u001b[0m \u001b[38;5;66;03m# Dropping unnecessary columns\u001b[39;00m\n\u001b[1;32m      5\u001b[0m gdp \u001b[38;5;241m=\u001b[39m gdp\u001b[38;5;241m.\u001b[39mdrop(columns\u001b[38;5;241m=\u001b[39m[\u001b[38;5;124m'\u001b[39m\u001b[38;5;124mCountry Code\u001b[39m\u001b[38;5;124m'\u001b[39m, \u001b[38;5;124m'\u001b[39m\u001b[38;5;124mIndicator Name\u001b[39m\u001b[38;5;124m'\u001b[39m])\n",
      "File \u001b[0;32m/opt/conda/lib/python3.11/site-packages/pandas/io/parsers/readers.py:1026\u001b[0m, in \u001b[0;36mread_csv\u001b[0;34m(filepath_or_buffer, sep, delimiter, header, names, index_col, usecols, dtype, engine, converters, true_values, false_values, skipinitialspace, skiprows, skipfooter, nrows, na_values, keep_default_na, na_filter, verbose, skip_blank_lines, parse_dates, infer_datetime_format, keep_date_col, date_parser, date_format, dayfirst, cache_dates, iterator, chunksize, compression, thousands, decimal, lineterminator, quotechar, quoting, doublequote, escapechar, comment, encoding, encoding_errors, dialect, on_bad_lines, delim_whitespace, low_memory, memory_map, float_precision, storage_options, dtype_backend)\u001b[0m\n\u001b[1;32m   1013\u001b[0m kwds_defaults \u001b[38;5;241m=\u001b[39m _refine_defaults_read(\n\u001b[1;32m   1014\u001b[0m     dialect,\n\u001b[1;32m   1015\u001b[0m     delimiter,\n\u001b[0;32m   (...)\u001b[0m\n\u001b[1;32m   1022\u001b[0m     dtype_backend\u001b[38;5;241m=\u001b[39mdtype_backend,\n\u001b[1;32m   1023\u001b[0m )\n\u001b[1;32m   1024\u001b[0m kwds\u001b[38;5;241m.\u001b[39mupdate(kwds_defaults)\n\u001b[0;32m-> 1026\u001b[0m \u001b[38;5;28;01mreturn\u001b[39;00m \u001b[43m_read\u001b[49m\u001b[43m(\u001b[49m\u001b[43mfilepath_or_buffer\u001b[49m\u001b[43m,\u001b[49m\u001b[43m \u001b[49m\u001b[43mkwds\u001b[49m\u001b[43m)\u001b[49m\n",
      "File \u001b[0;32m/opt/conda/lib/python3.11/site-packages/pandas/io/parsers/readers.py:620\u001b[0m, in \u001b[0;36m_read\u001b[0;34m(filepath_or_buffer, kwds)\u001b[0m\n\u001b[1;32m    617\u001b[0m _validate_names(kwds\u001b[38;5;241m.\u001b[39mget(\u001b[38;5;124m\"\u001b[39m\u001b[38;5;124mnames\u001b[39m\u001b[38;5;124m\"\u001b[39m, \u001b[38;5;28;01mNone\u001b[39;00m))\n\u001b[1;32m    619\u001b[0m \u001b[38;5;66;03m# Create the parser.\u001b[39;00m\n\u001b[0;32m--> 620\u001b[0m parser \u001b[38;5;241m=\u001b[39m \u001b[43mTextFileReader\u001b[49m\u001b[43m(\u001b[49m\u001b[43mfilepath_or_buffer\u001b[49m\u001b[43m,\u001b[49m\u001b[43m \u001b[49m\u001b[38;5;241;43m*\u001b[39;49m\u001b[38;5;241;43m*\u001b[39;49m\u001b[43mkwds\u001b[49m\u001b[43m)\u001b[49m\n\u001b[1;32m    622\u001b[0m \u001b[38;5;28;01mif\u001b[39;00m chunksize \u001b[38;5;129;01mor\u001b[39;00m iterator:\n\u001b[1;32m    623\u001b[0m     \u001b[38;5;28;01mreturn\u001b[39;00m parser\n",
      "File \u001b[0;32m/opt/conda/lib/python3.11/site-packages/pandas/io/parsers/readers.py:1620\u001b[0m, in \u001b[0;36mTextFileReader.__init__\u001b[0;34m(self, f, engine, **kwds)\u001b[0m\n\u001b[1;32m   1617\u001b[0m     \u001b[38;5;28mself\u001b[39m\u001b[38;5;241m.\u001b[39moptions[\u001b[38;5;124m\"\u001b[39m\u001b[38;5;124mhas_index_names\u001b[39m\u001b[38;5;124m\"\u001b[39m] \u001b[38;5;241m=\u001b[39m kwds[\u001b[38;5;124m\"\u001b[39m\u001b[38;5;124mhas_index_names\u001b[39m\u001b[38;5;124m\"\u001b[39m]\n\u001b[1;32m   1619\u001b[0m \u001b[38;5;28mself\u001b[39m\u001b[38;5;241m.\u001b[39mhandles: IOHandles \u001b[38;5;241m|\u001b[39m \u001b[38;5;28;01mNone\u001b[39;00m \u001b[38;5;241m=\u001b[39m \u001b[38;5;28;01mNone\u001b[39;00m\n\u001b[0;32m-> 1620\u001b[0m \u001b[38;5;28mself\u001b[39m\u001b[38;5;241m.\u001b[39m_engine \u001b[38;5;241m=\u001b[39m \u001b[38;5;28;43mself\u001b[39;49m\u001b[38;5;241;43m.\u001b[39;49m\u001b[43m_make_engine\u001b[49m\u001b[43m(\u001b[49m\u001b[43mf\u001b[49m\u001b[43m,\u001b[49m\u001b[43m \u001b[49m\u001b[38;5;28;43mself\u001b[39;49m\u001b[38;5;241;43m.\u001b[39;49m\u001b[43mengine\u001b[49m\u001b[43m)\u001b[49m\n",
      "File \u001b[0;32m/opt/conda/lib/python3.11/site-packages/pandas/io/parsers/readers.py:1880\u001b[0m, in \u001b[0;36mTextFileReader._make_engine\u001b[0;34m(self, f, engine)\u001b[0m\n\u001b[1;32m   1878\u001b[0m     \u001b[38;5;28;01mif\u001b[39;00m \u001b[38;5;124m\"\u001b[39m\u001b[38;5;124mb\u001b[39m\u001b[38;5;124m\"\u001b[39m \u001b[38;5;129;01mnot\u001b[39;00m \u001b[38;5;129;01min\u001b[39;00m mode:\n\u001b[1;32m   1879\u001b[0m         mode \u001b[38;5;241m+\u001b[39m\u001b[38;5;241m=\u001b[39m \u001b[38;5;124m\"\u001b[39m\u001b[38;5;124mb\u001b[39m\u001b[38;5;124m\"\u001b[39m\n\u001b[0;32m-> 1880\u001b[0m \u001b[38;5;28mself\u001b[39m\u001b[38;5;241m.\u001b[39mhandles \u001b[38;5;241m=\u001b[39m \u001b[43mget_handle\u001b[49m\u001b[43m(\u001b[49m\n\u001b[1;32m   1881\u001b[0m \u001b[43m    \u001b[49m\u001b[43mf\u001b[49m\u001b[43m,\u001b[49m\n\u001b[1;32m   1882\u001b[0m \u001b[43m    \u001b[49m\u001b[43mmode\u001b[49m\u001b[43m,\u001b[49m\n\u001b[1;32m   1883\u001b[0m \u001b[43m    \u001b[49m\u001b[43mencoding\u001b[49m\u001b[38;5;241;43m=\u001b[39;49m\u001b[38;5;28;43mself\u001b[39;49m\u001b[38;5;241;43m.\u001b[39;49m\u001b[43moptions\u001b[49m\u001b[38;5;241;43m.\u001b[39;49m\u001b[43mget\u001b[49m\u001b[43m(\u001b[49m\u001b[38;5;124;43m\"\u001b[39;49m\u001b[38;5;124;43mencoding\u001b[39;49m\u001b[38;5;124;43m\"\u001b[39;49m\u001b[43m,\u001b[49m\u001b[43m \u001b[49m\u001b[38;5;28;43;01mNone\u001b[39;49;00m\u001b[43m)\u001b[49m\u001b[43m,\u001b[49m\n\u001b[1;32m   1884\u001b[0m \u001b[43m    \u001b[49m\u001b[43mcompression\u001b[49m\u001b[38;5;241;43m=\u001b[39;49m\u001b[38;5;28;43mself\u001b[39;49m\u001b[38;5;241;43m.\u001b[39;49m\u001b[43moptions\u001b[49m\u001b[38;5;241;43m.\u001b[39;49m\u001b[43mget\u001b[49m\u001b[43m(\u001b[49m\u001b[38;5;124;43m\"\u001b[39;49m\u001b[38;5;124;43mcompression\u001b[39;49m\u001b[38;5;124;43m\"\u001b[39;49m\u001b[43m,\u001b[49m\u001b[43m \u001b[49m\u001b[38;5;28;43;01mNone\u001b[39;49;00m\u001b[43m)\u001b[49m\u001b[43m,\u001b[49m\n\u001b[1;32m   1885\u001b[0m \u001b[43m    \u001b[49m\u001b[43mmemory_map\u001b[49m\u001b[38;5;241;43m=\u001b[39;49m\u001b[38;5;28;43mself\u001b[39;49m\u001b[38;5;241;43m.\u001b[39;49m\u001b[43moptions\u001b[49m\u001b[38;5;241;43m.\u001b[39;49m\u001b[43mget\u001b[49m\u001b[43m(\u001b[49m\u001b[38;5;124;43m\"\u001b[39;49m\u001b[38;5;124;43mmemory_map\u001b[39;49m\u001b[38;5;124;43m\"\u001b[39;49m\u001b[43m,\u001b[49m\u001b[43m \u001b[49m\u001b[38;5;28;43;01mFalse\u001b[39;49;00m\u001b[43m)\u001b[49m\u001b[43m,\u001b[49m\n\u001b[1;32m   1886\u001b[0m \u001b[43m    \u001b[49m\u001b[43mis_text\u001b[49m\u001b[38;5;241;43m=\u001b[39;49m\u001b[43mis_text\u001b[49m\u001b[43m,\u001b[49m\n\u001b[1;32m   1887\u001b[0m \u001b[43m    \u001b[49m\u001b[43merrors\u001b[49m\u001b[38;5;241;43m=\u001b[39;49m\u001b[38;5;28;43mself\u001b[39;49m\u001b[38;5;241;43m.\u001b[39;49m\u001b[43moptions\u001b[49m\u001b[38;5;241;43m.\u001b[39;49m\u001b[43mget\u001b[49m\u001b[43m(\u001b[49m\u001b[38;5;124;43m\"\u001b[39;49m\u001b[38;5;124;43mencoding_errors\u001b[39;49m\u001b[38;5;124;43m\"\u001b[39;49m\u001b[43m,\u001b[49m\u001b[43m \u001b[49m\u001b[38;5;124;43m\"\u001b[39;49m\u001b[38;5;124;43mstrict\u001b[39;49m\u001b[38;5;124;43m\"\u001b[39;49m\u001b[43m)\u001b[49m\u001b[43m,\u001b[49m\n\u001b[1;32m   1888\u001b[0m \u001b[43m    \u001b[49m\u001b[43mstorage_options\u001b[49m\u001b[38;5;241;43m=\u001b[39;49m\u001b[38;5;28;43mself\u001b[39;49m\u001b[38;5;241;43m.\u001b[39;49m\u001b[43moptions\u001b[49m\u001b[38;5;241;43m.\u001b[39;49m\u001b[43mget\u001b[49m\u001b[43m(\u001b[49m\u001b[38;5;124;43m\"\u001b[39;49m\u001b[38;5;124;43mstorage_options\u001b[39;49m\u001b[38;5;124;43m\"\u001b[39;49m\u001b[43m,\u001b[49m\u001b[43m \u001b[49m\u001b[38;5;28;43;01mNone\u001b[39;49;00m\u001b[43m)\u001b[49m\u001b[43m,\u001b[49m\n\u001b[1;32m   1889\u001b[0m \u001b[43m\u001b[49m\u001b[43m)\u001b[49m\n\u001b[1;32m   1890\u001b[0m \u001b[38;5;28;01massert\u001b[39;00m \u001b[38;5;28mself\u001b[39m\u001b[38;5;241m.\u001b[39mhandles \u001b[38;5;129;01mis\u001b[39;00m \u001b[38;5;129;01mnot\u001b[39;00m \u001b[38;5;28;01mNone\u001b[39;00m\n\u001b[1;32m   1891\u001b[0m f \u001b[38;5;241m=\u001b[39m \u001b[38;5;28mself\u001b[39m\u001b[38;5;241m.\u001b[39mhandles\u001b[38;5;241m.\u001b[39mhandle\n",
      "File \u001b[0;32m/opt/conda/lib/python3.11/site-packages/pandas/io/common.py:873\u001b[0m, in \u001b[0;36mget_handle\u001b[0;34m(path_or_buf, mode, encoding, compression, memory_map, is_text, errors, storage_options)\u001b[0m\n\u001b[1;32m    868\u001b[0m \u001b[38;5;28;01melif\u001b[39;00m \u001b[38;5;28misinstance\u001b[39m(handle, \u001b[38;5;28mstr\u001b[39m):\n\u001b[1;32m    869\u001b[0m     \u001b[38;5;66;03m# Check whether the filename is to be opened in binary mode.\u001b[39;00m\n\u001b[1;32m    870\u001b[0m     \u001b[38;5;66;03m# Binary mode does not support 'encoding' and 'newline'.\u001b[39;00m\n\u001b[1;32m    871\u001b[0m     \u001b[38;5;28;01mif\u001b[39;00m ioargs\u001b[38;5;241m.\u001b[39mencoding \u001b[38;5;129;01mand\u001b[39;00m \u001b[38;5;124m\"\u001b[39m\u001b[38;5;124mb\u001b[39m\u001b[38;5;124m\"\u001b[39m \u001b[38;5;129;01mnot\u001b[39;00m \u001b[38;5;129;01min\u001b[39;00m ioargs\u001b[38;5;241m.\u001b[39mmode:\n\u001b[1;32m    872\u001b[0m         \u001b[38;5;66;03m# Encoding\u001b[39;00m\n\u001b[0;32m--> 873\u001b[0m         handle \u001b[38;5;241m=\u001b[39m \u001b[38;5;28;43mopen\u001b[39;49m\u001b[43m(\u001b[49m\n\u001b[1;32m    874\u001b[0m \u001b[43m            \u001b[49m\u001b[43mhandle\u001b[49m\u001b[43m,\u001b[49m\n\u001b[1;32m    875\u001b[0m \u001b[43m            \u001b[49m\u001b[43mioargs\u001b[49m\u001b[38;5;241;43m.\u001b[39;49m\u001b[43mmode\u001b[49m\u001b[43m,\u001b[49m\n\u001b[1;32m    876\u001b[0m \u001b[43m            \u001b[49m\u001b[43mencoding\u001b[49m\u001b[38;5;241;43m=\u001b[39;49m\u001b[43mioargs\u001b[49m\u001b[38;5;241;43m.\u001b[39;49m\u001b[43mencoding\u001b[49m\u001b[43m,\u001b[49m\n\u001b[1;32m    877\u001b[0m \u001b[43m            \u001b[49m\u001b[43merrors\u001b[49m\u001b[38;5;241;43m=\u001b[39;49m\u001b[43merrors\u001b[49m\u001b[43m,\u001b[49m\n\u001b[1;32m    878\u001b[0m \u001b[43m            \u001b[49m\u001b[43mnewline\u001b[49m\u001b[38;5;241;43m=\u001b[39;49m\u001b[38;5;124;43m\"\u001b[39;49m\u001b[38;5;124;43m\"\u001b[39;49m\u001b[43m,\u001b[49m\n\u001b[1;32m    879\u001b[0m \u001b[43m        \u001b[49m\u001b[43m)\u001b[49m\n\u001b[1;32m    880\u001b[0m     \u001b[38;5;28;01melse\u001b[39;00m:\n\u001b[1;32m    881\u001b[0m         \u001b[38;5;66;03m# Binary mode\u001b[39;00m\n\u001b[1;32m    882\u001b[0m         handle \u001b[38;5;241m=\u001b[39m \u001b[38;5;28mopen\u001b[39m(handle, ioargs\u001b[38;5;241m.\u001b[39mmode)\n",
      "\u001b[0;31mFileNotFoundError\u001b[0m: [Errno 2] No such file or directory: 'Data sets/GDP/GDP.csv'"
     ]
    }
   ],
   "source": [
    "# Loading GDP data (2010-2023)\n",
    "gdp = pd.read_csv(\"Data sets/GDP/GDP.csv\")\n",
    "\n",
    "# Dropping unnecessary columns\n",
    "gdp = gdp.drop(columns=['Country Code', 'Indicator Name'])\n",
    "\n",
    "# Setting float format globally to display full digits\n",
    "pd.set_option('display.float_format', '{:.0f}'.format)\n",
    "\n",
    "# Displaying the first few rows of the dataset\n",
    "print(gdp.head())"
   ]
  },
  {
   "cell_type": "code",
   "execution_count": 22,
   "id": "6911f450-0f00-4e73-8395-6d1b0856373a",
   "metadata": {},
   "outputs": [
    {
     "ename": "FileNotFoundError",
     "evalue": "[Errno 2] No such file or directory: 'Data sets/GNIPerCapita/GNI Per Capita.csv'",
     "output_type": "error",
     "traceback": [
      "\u001b[0;31m---------------------------------------------------------------------------\u001b[0m",
      "\u001b[0;31mFileNotFoundError\u001b[0m                         Traceback (most recent call last)",
      "Cell \u001b[0;32mIn[22], line 2\u001b[0m\n\u001b[1;32m      1\u001b[0m \u001b[38;5;66;03m# Loading GNI data (2010-2023)\u001b[39;00m\n\u001b[0;32m----> 2\u001b[0m gni \u001b[38;5;241m=\u001b[39m \u001b[43mpd\u001b[49m\u001b[38;5;241;43m.\u001b[39;49m\u001b[43mread_csv\u001b[49m\u001b[43m(\u001b[49m\u001b[38;5;124;43m\"\u001b[39;49m\u001b[38;5;124;43mData sets/GNIPerCapita/GNI Per Capita.csv\u001b[39;49m\u001b[38;5;124;43m\"\u001b[39;49m\u001b[43m)\u001b[49m\n\u001b[1;32m      4\u001b[0m \u001b[38;5;66;03m# Dropping unnecessary columns\u001b[39;00m\n\u001b[1;32m      5\u001b[0m gni \u001b[38;5;241m=\u001b[39m gni\u001b[38;5;241m.\u001b[39mdrop(columns\u001b[38;5;241m=\u001b[39m[\u001b[38;5;124m'\u001b[39m\u001b[38;5;124mCountry Code\u001b[39m\u001b[38;5;124m'\u001b[39m, \u001b[38;5;124m'\u001b[39m\u001b[38;5;124mIndicator Name\u001b[39m\u001b[38;5;124m'\u001b[39m])\n",
      "File \u001b[0;32m/opt/conda/lib/python3.11/site-packages/pandas/io/parsers/readers.py:1026\u001b[0m, in \u001b[0;36mread_csv\u001b[0;34m(filepath_or_buffer, sep, delimiter, header, names, index_col, usecols, dtype, engine, converters, true_values, false_values, skipinitialspace, skiprows, skipfooter, nrows, na_values, keep_default_na, na_filter, verbose, skip_blank_lines, parse_dates, infer_datetime_format, keep_date_col, date_parser, date_format, dayfirst, cache_dates, iterator, chunksize, compression, thousands, decimal, lineterminator, quotechar, quoting, doublequote, escapechar, comment, encoding, encoding_errors, dialect, on_bad_lines, delim_whitespace, low_memory, memory_map, float_precision, storage_options, dtype_backend)\u001b[0m\n\u001b[1;32m   1013\u001b[0m kwds_defaults \u001b[38;5;241m=\u001b[39m _refine_defaults_read(\n\u001b[1;32m   1014\u001b[0m     dialect,\n\u001b[1;32m   1015\u001b[0m     delimiter,\n\u001b[0;32m   (...)\u001b[0m\n\u001b[1;32m   1022\u001b[0m     dtype_backend\u001b[38;5;241m=\u001b[39mdtype_backend,\n\u001b[1;32m   1023\u001b[0m )\n\u001b[1;32m   1024\u001b[0m kwds\u001b[38;5;241m.\u001b[39mupdate(kwds_defaults)\n\u001b[0;32m-> 1026\u001b[0m \u001b[38;5;28;01mreturn\u001b[39;00m \u001b[43m_read\u001b[49m\u001b[43m(\u001b[49m\u001b[43mfilepath_or_buffer\u001b[49m\u001b[43m,\u001b[49m\u001b[43m \u001b[49m\u001b[43mkwds\u001b[49m\u001b[43m)\u001b[49m\n",
      "File \u001b[0;32m/opt/conda/lib/python3.11/site-packages/pandas/io/parsers/readers.py:620\u001b[0m, in \u001b[0;36m_read\u001b[0;34m(filepath_or_buffer, kwds)\u001b[0m\n\u001b[1;32m    617\u001b[0m _validate_names(kwds\u001b[38;5;241m.\u001b[39mget(\u001b[38;5;124m\"\u001b[39m\u001b[38;5;124mnames\u001b[39m\u001b[38;5;124m\"\u001b[39m, \u001b[38;5;28;01mNone\u001b[39;00m))\n\u001b[1;32m    619\u001b[0m \u001b[38;5;66;03m# Create the parser.\u001b[39;00m\n\u001b[0;32m--> 620\u001b[0m parser \u001b[38;5;241m=\u001b[39m \u001b[43mTextFileReader\u001b[49m\u001b[43m(\u001b[49m\u001b[43mfilepath_or_buffer\u001b[49m\u001b[43m,\u001b[49m\u001b[43m \u001b[49m\u001b[38;5;241;43m*\u001b[39;49m\u001b[38;5;241;43m*\u001b[39;49m\u001b[43mkwds\u001b[49m\u001b[43m)\u001b[49m\n\u001b[1;32m    622\u001b[0m \u001b[38;5;28;01mif\u001b[39;00m chunksize \u001b[38;5;129;01mor\u001b[39;00m iterator:\n\u001b[1;32m    623\u001b[0m     \u001b[38;5;28;01mreturn\u001b[39;00m parser\n",
      "File \u001b[0;32m/opt/conda/lib/python3.11/site-packages/pandas/io/parsers/readers.py:1620\u001b[0m, in \u001b[0;36mTextFileReader.__init__\u001b[0;34m(self, f, engine, **kwds)\u001b[0m\n\u001b[1;32m   1617\u001b[0m     \u001b[38;5;28mself\u001b[39m\u001b[38;5;241m.\u001b[39moptions[\u001b[38;5;124m\"\u001b[39m\u001b[38;5;124mhas_index_names\u001b[39m\u001b[38;5;124m\"\u001b[39m] \u001b[38;5;241m=\u001b[39m kwds[\u001b[38;5;124m\"\u001b[39m\u001b[38;5;124mhas_index_names\u001b[39m\u001b[38;5;124m\"\u001b[39m]\n\u001b[1;32m   1619\u001b[0m \u001b[38;5;28mself\u001b[39m\u001b[38;5;241m.\u001b[39mhandles: IOHandles \u001b[38;5;241m|\u001b[39m \u001b[38;5;28;01mNone\u001b[39;00m \u001b[38;5;241m=\u001b[39m \u001b[38;5;28;01mNone\u001b[39;00m\n\u001b[0;32m-> 1620\u001b[0m \u001b[38;5;28mself\u001b[39m\u001b[38;5;241m.\u001b[39m_engine \u001b[38;5;241m=\u001b[39m \u001b[38;5;28;43mself\u001b[39;49m\u001b[38;5;241;43m.\u001b[39;49m\u001b[43m_make_engine\u001b[49m\u001b[43m(\u001b[49m\u001b[43mf\u001b[49m\u001b[43m,\u001b[49m\u001b[43m \u001b[49m\u001b[38;5;28;43mself\u001b[39;49m\u001b[38;5;241;43m.\u001b[39;49m\u001b[43mengine\u001b[49m\u001b[43m)\u001b[49m\n",
      "File \u001b[0;32m/opt/conda/lib/python3.11/site-packages/pandas/io/parsers/readers.py:1880\u001b[0m, in \u001b[0;36mTextFileReader._make_engine\u001b[0;34m(self, f, engine)\u001b[0m\n\u001b[1;32m   1878\u001b[0m     \u001b[38;5;28;01mif\u001b[39;00m \u001b[38;5;124m\"\u001b[39m\u001b[38;5;124mb\u001b[39m\u001b[38;5;124m\"\u001b[39m \u001b[38;5;129;01mnot\u001b[39;00m \u001b[38;5;129;01min\u001b[39;00m mode:\n\u001b[1;32m   1879\u001b[0m         mode \u001b[38;5;241m+\u001b[39m\u001b[38;5;241m=\u001b[39m \u001b[38;5;124m\"\u001b[39m\u001b[38;5;124mb\u001b[39m\u001b[38;5;124m\"\u001b[39m\n\u001b[0;32m-> 1880\u001b[0m \u001b[38;5;28mself\u001b[39m\u001b[38;5;241m.\u001b[39mhandles \u001b[38;5;241m=\u001b[39m \u001b[43mget_handle\u001b[49m\u001b[43m(\u001b[49m\n\u001b[1;32m   1881\u001b[0m \u001b[43m    \u001b[49m\u001b[43mf\u001b[49m\u001b[43m,\u001b[49m\n\u001b[1;32m   1882\u001b[0m \u001b[43m    \u001b[49m\u001b[43mmode\u001b[49m\u001b[43m,\u001b[49m\n\u001b[1;32m   1883\u001b[0m \u001b[43m    \u001b[49m\u001b[43mencoding\u001b[49m\u001b[38;5;241;43m=\u001b[39;49m\u001b[38;5;28;43mself\u001b[39;49m\u001b[38;5;241;43m.\u001b[39;49m\u001b[43moptions\u001b[49m\u001b[38;5;241;43m.\u001b[39;49m\u001b[43mget\u001b[49m\u001b[43m(\u001b[49m\u001b[38;5;124;43m\"\u001b[39;49m\u001b[38;5;124;43mencoding\u001b[39;49m\u001b[38;5;124;43m\"\u001b[39;49m\u001b[43m,\u001b[49m\u001b[43m \u001b[49m\u001b[38;5;28;43;01mNone\u001b[39;49;00m\u001b[43m)\u001b[49m\u001b[43m,\u001b[49m\n\u001b[1;32m   1884\u001b[0m \u001b[43m    \u001b[49m\u001b[43mcompression\u001b[49m\u001b[38;5;241;43m=\u001b[39;49m\u001b[38;5;28;43mself\u001b[39;49m\u001b[38;5;241;43m.\u001b[39;49m\u001b[43moptions\u001b[49m\u001b[38;5;241;43m.\u001b[39;49m\u001b[43mget\u001b[49m\u001b[43m(\u001b[49m\u001b[38;5;124;43m\"\u001b[39;49m\u001b[38;5;124;43mcompression\u001b[39;49m\u001b[38;5;124;43m\"\u001b[39;49m\u001b[43m,\u001b[49m\u001b[43m \u001b[49m\u001b[38;5;28;43;01mNone\u001b[39;49;00m\u001b[43m)\u001b[49m\u001b[43m,\u001b[49m\n\u001b[1;32m   1885\u001b[0m \u001b[43m    \u001b[49m\u001b[43mmemory_map\u001b[49m\u001b[38;5;241;43m=\u001b[39;49m\u001b[38;5;28;43mself\u001b[39;49m\u001b[38;5;241;43m.\u001b[39;49m\u001b[43moptions\u001b[49m\u001b[38;5;241;43m.\u001b[39;49m\u001b[43mget\u001b[49m\u001b[43m(\u001b[49m\u001b[38;5;124;43m\"\u001b[39;49m\u001b[38;5;124;43mmemory_map\u001b[39;49m\u001b[38;5;124;43m\"\u001b[39;49m\u001b[43m,\u001b[49m\u001b[43m \u001b[49m\u001b[38;5;28;43;01mFalse\u001b[39;49;00m\u001b[43m)\u001b[49m\u001b[43m,\u001b[49m\n\u001b[1;32m   1886\u001b[0m \u001b[43m    \u001b[49m\u001b[43mis_text\u001b[49m\u001b[38;5;241;43m=\u001b[39;49m\u001b[43mis_text\u001b[49m\u001b[43m,\u001b[49m\n\u001b[1;32m   1887\u001b[0m \u001b[43m    \u001b[49m\u001b[43merrors\u001b[49m\u001b[38;5;241;43m=\u001b[39;49m\u001b[38;5;28;43mself\u001b[39;49m\u001b[38;5;241;43m.\u001b[39;49m\u001b[43moptions\u001b[49m\u001b[38;5;241;43m.\u001b[39;49m\u001b[43mget\u001b[49m\u001b[43m(\u001b[49m\u001b[38;5;124;43m\"\u001b[39;49m\u001b[38;5;124;43mencoding_errors\u001b[39;49m\u001b[38;5;124;43m\"\u001b[39;49m\u001b[43m,\u001b[49m\u001b[43m \u001b[49m\u001b[38;5;124;43m\"\u001b[39;49m\u001b[38;5;124;43mstrict\u001b[39;49m\u001b[38;5;124;43m\"\u001b[39;49m\u001b[43m)\u001b[49m\u001b[43m,\u001b[49m\n\u001b[1;32m   1888\u001b[0m \u001b[43m    \u001b[49m\u001b[43mstorage_options\u001b[49m\u001b[38;5;241;43m=\u001b[39;49m\u001b[38;5;28;43mself\u001b[39;49m\u001b[38;5;241;43m.\u001b[39;49m\u001b[43moptions\u001b[49m\u001b[38;5;241;43m.\u001b[39;49m\u001b[43mget\u001b[49m\u001b[43m(\u001b[49m\u001b[38;5;124;43m\"\u001b[39;49m\u001b[38;5;124;43mstorage_options\u001b[39;49m\u001b[38;5;124;43m\"\u001b[39;49m\u001b[43m,\u001b[49m\u001b[43m \u001b[49m\u001b[38;5;28;43;01mNone\u001b[39;49;00m\u001b[43m)\u001b[49m\u001b[43m,\u001b[49m\n\u001b[1;32m   1889\u001b[0m \u001b[43m\u001b[49m\u001b[43m)\u001b[49m\n\u001b[1;32m   1890\u001b[0m \u001b[38;5;28;01massert\u001b[39;00m \u001b[38;5;28mself\u001b[39m\u001b[38;5;241m.\u001b[39mhandles \u001b[38;5;129;01mis\u001b[39;00m \u001b[38;5;129;01mnot\u001b[39;00m \u001b[38;5;28;01mNone\u001b[39;00m\n\u001b[1;32m   1891\u001b[0m f \u001b[38;5;241m=\u001b[39m \u001b[38;5;28mself\u001b[39m\u001b[38;5;241m.\u001b[39mhandles\u001b[38;5;241m.\u001b[39mhandle\n",
      "File \u001b[0;32m/opt/conda/lib/python3.11/site-packages/pandas/io/common.py:873\u001b[0m, in \u001b[0;36mget_handle\u001b[0;34m(path_or_buf, mode, encoding, compression, memory_map, is_text, errors, storage_options)\u001b[0m\n\u001b[1;32m    868\u001b[0m \u001b[38;5;28;01melif\u001b[39;00m \u001b[38;5;28misinstance\u001b[39m(handle, \u001b[38;5;28mstr\u001b[39m):\n\u001b[1;32m    869\u001b[0m     \u001b[38;5;66;03m# Check whether the filename is to be opened in binary mode.\u001b[39;00m\n\u001b[1;32m    870\u001b[0m     \u001b[38;5;66;03m# Binary mode does not support 'encoding' and 'newline'.\u001b[39;00m\n\u001b[1;32m    871\u001b[0m     \u001b[38;5;28;01mif\u001b[39;00m ioargs\u001b[38;5;241m.\u001b[39mencoding \u001b[38;5;129;01mand\u001b[39;00m \u001b[38;5;124m\"\u001b[39m\u001b[38;5;124mb\u001b[39m\u001b[38;5;124m\"\u001b[39m \u001b[38;5;129;01mnot\u001b[39;00m \u001b[38;5;129;01min\u001b[39;00m ioargs\u001b[38;5;241m.\u001b[39mmode:\n\u001b[1;32m    872\u001b[0m         \u001b[38;5;66;03m# Encoding\u001b[39;00m\n\u001b[0;32m--> 873\u001b[0m         handle \u001b[38;5;241m=\u001b[39m \u001b[38;5;28;43mopen\u001b[39;49m\u001b[43m(\u001b[49m\n\u001b[1;32m    874\u001b[0m \u001b[43m            \u001b[49m\u001b[43mhandle\u001b[49m\u001b[43m,\u001b[49m\n\u001b[1;32m    875\u001b[0m \u001b[43m            \u001b[49m\u001b[43mioargs\u001b[49m\u001b[38;5;241;43m.\u001b[39;49m\u001b[43mmode\u001b[49m\u001b[43m,\u001b[49m\n\u001b[1;32m    876\u001b[0m \u001b[43m            \u001b[49m\u001b[43mencoding\u001b[49m\u001b[38;5;241;43m=\u001b[39;49m\u001b[43mioargs\u001b[49m\u001b[38;5;241;43m.\u001b[39;49m\u001b[43mencoding\u001b[49m\u001b[43m,\u001b[49m\n\u001b[1;32m    877\u001b[0m \u001b[43m            \u001b[49m\u001b[43merrors\u001b[49m\u001b[38;5;241;43m=\u001b[39;49m\u001b[43merrors\u001b[49m\u001b[43m,\u001b[49m\n\u001b[1;32m    878\u001b[0m \u001b[43m            \u001b[49m\u001b[43mnewline\u001b[49m\u001b[38;5;241;43m=\u001b[39;49m\u001b[38;5;124;43m\"\u001b[39;49m\u001b[38;5;124;43m\"\u001b[39;49m\u001b[43m,\u001b[49m\n\u001b[1;32m    879\u001b[0m \u001b[43m        \u001b[49m\u001b[43m)\u001b[49m\n\u001b[1;32m    880\u001b[0m     \u001b[38;5;28;01melse\u001b[39;00m:\n\u001b[1;32m    881\u001b[0m         \u001b[38;5;66;03m# Binary mode\u001b[39;00m\n\u001b[1;32m    882\u001b[0m         handle \u001b[38;5;241m=\u001b[39m \u001b[38;5;28mopen\u001b[39m(handle, ioargs\u001b[38;5;241m.\u001b[39mmode)\n",
      "\u001b[0;31mFileNotFoundError\u001b[0m: [Errno 2] No such file or directory: 'Data sets/GNIPerCapita/GNI Per Capita.csv'"
     ]
    }
   ],
   "source": [
    "# Loading GNI data (2010-2023)\n",
    "gni = pd.read_csv(\"Data sets/GNIPerCapita/GNI Per Capita.csv\")\n",
    "\n",
    "# Dropping unnecessary columns\n",
    "gni = gni.drop(columns=['Country Code', 'Indicator Name'])\n",
    "\n",
    "\n",
    "# Displaying the first few rows of the dataset\n",
    "print(gdp.head())"
   ]
  },
  {
   "cell_type": "code",
   "execution_count": null,
   "id": "91f25b0d-4652-41ab-8836-8217e0f52c43",
   "metadata": {},
   "outputs": [],
   "source": []
  }
 ],
 "metadata": {
  "kernelspec": {
   "display_name": "Python 3 (ipykernel)",
   "language": "python",
   "name": "python3"
  },
  "language_info": {
   "codemirror_mode": {
    "name": "ipython",
    "version": 3
   },
   "file_extension": ".py",
   "mimetype": "text/x-python",
   "name": "python",
   "nbconvert_exporter": "python",
   "pygments_lexer": "ipython3",
   "version": "3.11.9"
  }
 },
 "nbformat": 4,
 "nbformat_minor": 5
}
